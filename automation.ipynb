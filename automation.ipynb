{
 "cells": [
  {
   "metadata": {
    "ExecuteTime": {
     "end_time": "2024-11-02T06:18:26.080225Z",
     "start_time": "2024-11-02T06:18:26.066981Z"
    }
   },
   "cell_type": "code",
   "source": [
    "import os\n",
    "import re\n",
    "import tarfile\n",
    "import zipfile\n",
    "from torchvision import datasets\n",
    "from torchvision.models import list_models\n",
    "import torchvision.models as models\n",
    "\n",
    "# Initialize Project_Info as a global array\n",
    "Project_Info = []\n",
    "\n",
    "def sanitize_string(s):\n",
    "    \"\"\"Convert string to lowercase, strip special characters, and replace spaces with underscores.\"\"\"\n",
    "    s = s.lower()\n",
    "    s = re.sub(r'[^a-z0-9_]', '', s)\n",
    "    return s.replace(' ', '_')\n",
    "\n",
    "def ensure_directory_exists(dir_path):\n",
    "    \"\"\"Ensure the directory exists; create it if it does not and set permissions to 777.\"\"\"\n",
    "    os.makedirs(dir_path, exist_ok=True)\n",
    "    os.chmod(dir_path, 0o777)\n",
    "    return os.path.abspath(dir_path)\n",
    "\n",
    "def check_file_exists(file_path):\n",
    "    \"\"\"Check if a file exists.\"\"\"\n",
    "    return os.path.isfile(file_path)\n",
    "\n",
    "def is_archive_file(file_path):\n",
    "    \"\"\"Check if a file is a valid archive (e.g., zip, tar) that we can extract.\"\"\"\n",
    "    return zipfile.is_zipfile(file_path) or tarfile.is_tarfile(file_path)\n",
    "\n",
    "def setup_project(prj_name, project_folder, model_type, model_py_file=None, model_pth_file=None, torch_vision_model=None, dataset_type=None, custom_dataset=None, torch_vision_dataset=None):\n",
    "    # Ensure Project Name and Project Folder are provided\n",
    "    if not prj_name or not project_folder:\n",
    "        raise ValueError(\"Project Name and Project Folder are required\")\n",
    "\n",
    "    # Sanitize project name and set project info\n",
    "    prj_name_stripped = sanitize_string(prj_name)\n",
    "    display_name = prj_name\n",
    "    Project_Info.append({\"Display_Name\": display_name, \"Stripped_Name\": prj_name_stripped})\n",
    "\n",
    "    # Ensure the directory exists\n",
    "    folder_path = ensure_directory_exists(project_folder)\n",
    "    Project_Info.append({\"Folder\": folder_path})\n",
    "\n",
    "    # Validate Model Type\n",
    "    valid_model_types = [\"untrained\", \"custom_pretrained\", \"torch_vision_pretrained\"]\n",
    "    if model_type not in valid_model_types:\n",
    "        raise ValueError(f\"Model Type must be one of {valid_model_types}\")\n",
    "\n",
    "    # Handle Model Type specific requirements\n",
    "    if model_type in [\"untrained\", \"custom_pretrained\"]:\n",
    "        # Ensure Model Py File is provided and exists\n",
    "        if not model_py_file or not check_file_exists(os.path.join(project_folder, model_py_file)):\n",
    "            raise FileNotFoundError(f\"Model Py File '{model_py_file}' does not exist in '{project_folder}'\")\n",
    "        Project_Info.append({\"Model_Py_File\": model_py_file})\n",
    "\n",
    "    if model_type == \"custom_pretrained\":\n",
    "        # Ensure Model Pth File is provided and exists\n",
    "        if not model_pth_file or not check_file_exists(os.path.join(project_folder, model_pth_file)):\n",
    "            raise FileNotFoundError(f\"Model Pth File '{model_pth_file}' does not exist in '{project_folder}'\")\n",
    "        Project_Info.append({\"Model_Pth_File\": model_pth_file})\n",
    "\n",
    "    if model_type == \"torch_vision_pretrained\":\n",
    "        # Ensure Torch Vision Model is provided and valid\n",
    "        available_models = list_models(module=models)\n",
    "        if not torch_vision_model or torch_vision_model not in available_models:\n",
    "            raise ValueError(f\"Torch Vision Model must be one of: {available_models}\")\n",
    "        Project_Info.append({\"Torch_Vision_Model\": torch_vision_model})\n",
    "\n",
    "    # Handle Dataset requirements for Untrained models\n",
    "    if model_type == \"untrained\":\n",
    "        if dataset_type not in [\"torch_vision_dataset\", \"custom_dataset\"]:\n",
    "            raise ValueError(\"Dataset Type must be either 'Torch Vision' or 'Custom Dataset' for Untrained models\")\n",
    "        Project_Info.append({\"Dataset_Type\": dataset_type})\n",
    "\n",
    "        if dataset_type == \"custom_dataset\":\n",
    "            # Ensure Custom Dataset file exists and is an archive\n",
    "            custom_dataset_path = os.path.join(project_folder, custom_dataset)\n",
    "            if not custom_dataset or not check_file_exists(custom_dataset_path) or not is_archive_file(custom_dataset_path):\n",
    "                raise FileNotFoundError(f\"Custom Dataset '{custom_dataset}' must exist in '{project_folder}' and be an archive file (zip or tar)\")\n",
    "            Project_Info.append({\"Custom_Dataset\": custom_dataset})\n",
    "\n",
    "        elif dataset_type == \"torch_vision_dataset\":\n",
    "            # Ensure Torch Vision Dataset is valid\n",
    "            available_datasets = [cls_name.lower() for cls_name in dir(datasets) if not cls_name.startswith('_')]\n",
    "            if not torch_vision_dataset or torch_vision_dataset.lower() not in available_datasets:\n",
    "                raise ValueError(f\"Torch Vision Dataset must be one of: {available_datasets}\")\n",
    "            Project_Info.append({\"Torch_Vision_Dataset\": torch_vision_dataset})\n",
    "\n",
    "    # Output the Project Info array\n",
    "    return Project_Info"
   ],
   "id": "4df70eb120061ecb",
   "outputs": [],
   "execution_count": 11
  },
  {
   "cell_type": "code",
   "id": "initial_id",
   "metadata": {
    "collapsed": true,
    "ExecuteTime": {
     "end_time": "2024-11-02T06:18:27.264221Z",
     "start_time": "2024-11-02T06:18:27.230810Z"
    }
   },
   "source": [
    "prj_name_input = \"AlexNet 1W1A\"\n",
    "prj_folder_input = \"Fast-QNN/outputs/txaviour/\"+sanitize_string(prj_name_input)\n",
    "model_type_input = \"pretrained\"\n",
    "filename_input = \"alexnet.pth\"\n",
    "project_name, project_name_stripped, build_dir = setup_project(prj_name_input, prj_folder_input, model_type_input, filename_input)"
   ],
   "outputs": [
    {
     "ename": "FileNotFoundError",
     "evalue": "alexnet.pth does not exist in Fast-QNN/outputs/txaviour/alexnet1w1a",
     "output_type": "error",
     "traceback": [
      "\u001B[0;31m---------------------------------------------------------------------------\u001B[0m",
      "\u001B[0;31mFileNotFoundError\u001B[0m                         Traceback (most recent call last)",
      "Cell \u001B[0;32mIn[12], line 5\u001B[0m\n\u001B[1;32m      3\u001B[0m model_type_input \u001B[38;5;241m=\u001B[39m \u001B[38;5;124m\"\u001B[39m\u001B[38;5;124mpretrained\u001B[39m\u001B[38;5;124m\"\u001B[39m\n\u001B[1;32m      4\u001B[0m filename_input \u001B[38;5;241m=\u001B[39m \u001B[38;5;124m\"\u001B[39m\u001B[38;5;124malexnet.pth\u001B[39m\u001B[38;5;124m\"\u001B[39m\n\u001B[0;32m----> 5\u001B[0m project_name, project_name_stripped, build_dir \u001B[38;5;241m=\u001B[39m \u001B[43msetup_project\u001B[49m\u001B[43m(\u001B[49m\u001B[43mprj_name_input\u001B[49m\u001B[43m,\u001B[49m\u001B[43m \u001B[49m\u001B[43mprj_folder_input\u001B[49m\u001B[43m,\u001B[49m\u001B[43m \u001B[49m\u001B[43mmodel_type_input\u001B[49m\u001B[43m,\u001B[49m\u001B[43m \u001B[49m\u001B[43mfilename_input\u001B[49m\u001B[43m)\u001B[49m\n",
      "Cell \u001B[0;32mIn[11], line 29\u001B[0m, in \u001B[0;36msetup_project\u001B[0;34m(prj_name, project_folder, model_type, filename)\u001B[0m\n\u001B[1;32m     27\u001B[0m     file_path \u001B[38;5;241m=\u001B[39m os\u001B[38;5;241m.\u001B[39mpath\u001B[38;5;241m.\u001B[39mjoin(project_folder, filename)\n\u001B[1;32m     28\u001B[0m     \u001B[38;5;28;01mif\u001B[39;00m \u001B[38;5;129;01mnot\u001B[39;00m check_file_exists(file_path):\n\u001B[0;32m---> 29\u001B[0m         \u001B[38;5;28;01mraise\u001B[39;00m \u001B[38;5;167;01mFileNotFoundError\u001B[39;00m(\u001B[38;5;124mf\u001B[39m\u001B[38;5;124m\"\u001B[39m\u001B[38;5;132;01m{\u001B[39;00mfilename\u001B[38;5;132;01m}\u001B[39;00m\u001B[38;5;124m does not exist in \u001B[39m\u001B[38;5;132;01m{\u001B[39;00mproject_folder\u001B[38;5;132;01m}\u001B[39;00m\u001B[38;5;124m\"\u001B[39m)\n\u001B[1;32m     31\u001B[0m \u001B[38;5;28;01mreturn\u001B[39;00m project_name, prj_name_stripped, project_folder\n",
      "\u001B[0;31mFileNotFoundError\u001B[0m: alexnet.pth does not exist in Fast-QNN/outputs/txaviour/alexnet1w1a"
     ]
    }
   ],
   "execution_count": 12
  }
 ],
 "metadata": {
  "kernelspec": {
   "display_name": "Python 3",
   "language": "python",
   "name": "python3"
  },
  "language_info": {
   "codemirror_mode": {
    "name": "ipython",
    "version": 2
   },
   "file_extension": ".py",
   "mimetype": "text/x-python",
   "name": "python",
   "nbconvert_exporter": "python",
   "pygments_lexer": "ipython2",
   "version": "2.7.6"
  }
 },
 "nbformat": 4,
 "nbformat_minor": 5
}
