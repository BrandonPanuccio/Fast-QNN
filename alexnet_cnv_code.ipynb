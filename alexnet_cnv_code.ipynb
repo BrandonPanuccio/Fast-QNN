{
 "cells": [
  {
   "cell_type": "code",
   "id": "fe7729fc74263d70",
   "metadata": {
    "ExecuteTime": {
     "end_time": "2024-10-22T18:42:50.624685Z",
     "start_time": "2024-10-22T18:42:44.053727Z"
    }
   },
   "source": [
    "from finn.util.basic import make_build_dir\n",
    "from finn.util.visualization import showInNetron\n",
    "import os\n",
    "\n",
    "build_dir = \"Fast-QNN/outputs/txaviour/alexnet_cnv\"\n",
    "\n",
    "import torch\n",
    "import onnx\n",
    "from finn.util.test import get_test_model_trained\n",
    "from brevitas.export import export_qonnx\n",
    "from qonnx.util.cleanup import cleanup as qonnx_cleanup\n",
    "from qonnx.core.modelwrapper import ModelWrapper\n",
    "from finn.transformation.qonnx.convert_qonnx_to_finn import ConvertQONNXtoFINN\n",
    "from qonnx.transformation.infer_shapes import InferShapes\n",
    "from qonnx.transformation.fold_constants import FoldConstants\n",
    "from qonnx.transformation.general import GiveReadableTensorNames, GiveUniqueNodeNames, RemoveStaticGraphInputs\n",
    "\n",
    "cnv = torch.hub.load('pytorch/vision:v0.10.0', 'alexnet', pretrained=True)\n",
    "export_onnx_path = build_dir + \"/end2end_cnv_w1a1_export.onnx\"\n",
    "export_qonnx(cnv, torch.randn(1, 3, 224, 224), export_onnx_path)\n",
    "qonnx_cleanup(export_onnx_path, out_file=export_onnx_path)\n",
    "showInNetron(build_dir+\"/end2end_cnv_w1a1_export.onnx\")"
   ],
   "outputs": [
    {
     "name": "stderr",
     "output_type": "stream",
     "text": [
      "Using cache found in /tmp/home_dir/.cache/torch/hub/pytorch_vision_v0.10.0\n",
      "/usr/local/lib/python3.10/dist-packages/torchvision/models/_utils.py:208: UserWarning: The parameter 'pretrained' is deprecated since 0.13 and may be removed in the future, please use 'weights' instead.\n",
      "  warnings.warn(\n",
      "/usr/local/lib/python3.10/dist-packages/torchvision/models/_utils.py:223: UserWarning: Arguments other than a weight enum or `None` for 'weights' are deprecated since 0.13 and may be removed in the future. The current behavior is equivalent to passing `weights=AlexNet_Weights.IMAGENET1K_V1`. You can also use `weights=AlexNet_Weights.DEFAULT` to get the most up-to-date weights.\n",
      "  warnings.warn(msg)\n"
     ]
    },
    {
     "name": "stdout",
     "output_type": "stream",
     "text": [
      "Stopping http://0.0.0.0:8081\n",
      "Serving 'Fast-QNN/outputs/txaviour/alexnet_cnv/end2end_cnv_w1a1_export.onnx' at http://0.0.0.0:8081\n"
     ]
    },
    {
     "data": {
      "text/plain": [
       "<IPython.lib.display.IFrame at 0x7f3d64faa110>"
      ],
      "text/html": [
       "\n",
       "        <iframe\n",
       "            width=\"100%\"\n",
       "            height=\"400\"\n",
       "            src=\"http://localhost:8081/\"\n",
       "            frameborder=\"0\"\n",
       "            allowfullscreen\n",
       "            \n",
       "        ></iframe>\n",
       "        "
      ]
     },
     "execution_count": 29,
     "metadata": {},
     "output_type": "execute_result"
    }
   ],
   "execution_count": 29
  },
  {
   "metadata": {
    "ExecuteTime": {
     "end_time": "2024-10-22T18:42:56.538266Z",
     "start_time": "2024-10-22T18:42:50.648005Z"
    }
   },
   "cell_type": "code",
   "source": [
    "model = ModelWrapper(export_onnx_path)\n",
    "model = model.transform(ConvertQONNXtoFINN())\n",
    "model.save(build_dir + \"/end2end_cnv_print.onnx\")\n",
    "showInNetron(build_dir + \"/end2end_cnv_print.onnx\")"
   ],
   "id": "d68694dec8083d42",
   "outputs": [
    {
     "name": "stderr",
     "output_type": "stream",
     "text": [
      "/tmp/home_dir/.local/lib/python3.10/site-packages/qonnx/transformation/gemm_to_matmul.py:57: UserWarning: The GemmToMatMul transformation only offers explicit support for version 9 of the Gemm node, but the ONNX version of the supplied model is 14. Thus the transformation may fail or return incomplete results.\n",
      "  warnings.warn(\n"
     ]
    },
    {
     "name": "stdout",
     "output_type": "stream",
     "text": [
      "Stopping http://0.0.0.0:8081\n",
      "Serving 'Fast-QNN/outputs/txaviour/alexnet_cnv/end2end_cnv_print.onnx' at http://0.0.0.0:8081\n"
     ]
    },
    {
     "data": {
      "text/plain": [
       "<IPython.lib.display.IFrame at 0x7f3d64faab30>"
      ],
      "text/html": [
       "\n",
       "        <iframe\n",
       "            width=\"100%\"\n",
       "            height=\"400\"\n",
       "            src=\"http://localhost:8081/\"\n",
       "            frameborder=\"0\"\n",
       "            allowfullscreen\n",
       "            \n",
       "        ></iframe>\n",
       "        "
      ]
     },
     "execution_count": 30,
     "metadata": {},
     "output_type": "execute_result"
    }
   ],
   "execution_count": 30
  },
  {
   "metadata": {
    "collapsed": true,
    "ExecuteTime": {
     "end_time": "2024-10-22T18:42:59.713648Z",
     "start_time": "2024-10-22T18:42:56.578220Z"
    }
   },
   "cell_type": "code",
   "source": [
    "model = model.transform(InferShapes())\n",
    "model = model.transform(FoldConstants())\n",
    "model = model.transform(GiveUniqueNodeNames())\n",
    "model = model.transform(GiveReadableTensorNames())\n",
    "model = model.transform(RemoveStaticGraphInputs())\n",
    "model.save(build_dir + \"/end2end_cnv_w1a1_tidy.onnx\")\n",
    "\n",
    "showInNetron(build_dir+\"/end2end_cnv_w1a1_tidy.onnx\")"
   ],
   "id": "initial_id",
   "outputs": [
    {
     "name": "stdout",
     "output_type": "stream",
     "text": [
      "Stopping http://0.0.0.0:8081\n",
      "Serving 'Fast-QNN/outputs/txaviour/alexnet_cnv/end2end_cnv_w1a1_tidy.onnx' at http://0.0.0.0:8081\n"
     ]
    },
    {
     "data": {
      "text/plain": [
       "<IPython.lib.display.IFrame at 0x7f3d651789a0>"
      ],
      "text/html": [
       "\n",
       "        <iframe\n",
       "            width=\"100%\"\n",
       "            height=\"400\"\n",
       "            src=\"http://localhost:8081/\"\n",
       "            frameborder=\"0\"\n",
       "            allowfullscreen\n",
       "            \n",
       "        ></iframe>\n",
       "        "
      ]
     },
     "execution_count": 31,
     "metadata": {},
     "output_type": "execute_result"
    }
   ],
   "execution_count": 31
  },
  {
   "metadata": {
    "ExecuteTime": {
     "end_time": "2024-10-22T18:43:00.229814Z",
     "start_time": "2024-10-22T18:42:59.759086Z"
    }
   },
   "cell_type": "code",
   "source": [
    "from finn.util.pytorch import ToTensor\n",
    "from qonnx.transformation.merge_onnx_models import MergeONNXModels\n",
    "from qonnx.core.datatype import DataType\n",
    "\n",
    "model = ModelWrapper(build_dir+\"/end2end_cnv_w1a1_tidy.onnx\")\n",
    "global_inp_name = model.graph.input[0].name\n",
    "ishape = model.get_tensor_shape(global_inp_name)\n",
    "# preprocessing: torchvision's ToTensor divides uint8 inputs by 255\n",
    "totensor_pyt = ToTensor()\n",
    "chkpt_preproc_name = build_dir+\"/end2end_cnv_w1a1_preproc.onnx\"\n",
    "export_qonnx(totensor_pyt, torch.randn(ishape), chkpt_preproc_name)\n",
    "qonnx_cleanup(chkpt_preproc_name, out_file=chkpt_preproc_name)\n",
    "showInNetron(chkpt_preproc_name)"
   ],
   "id": "1dc5f01ad06776d9",
   "outputs": [
    {
     "name": "stdout",
     "output_type": "stream",
     "text": [
      "Stopping http://0.0.0.0:8081\n",
      "Serving 'Fast-QNN/outputs/txaviour/alexnet_cnv/end2end_cnv_w1a1_preproc.onnx' at http://0.0.0.0:8081\n"
     ]
    },
    {
     "data": {
      "text/plain": [
       "<IPython.lib.display.IFrame at 0x7f3d65189990>"
      ],
      "text/html": [
       "\n",
       "        <iframe\n",
       "            width=\"100%\"\n",
       "            height=\"400\"\n",
       "            src=\"http://localhost:8081/\"\n",
       "            frameborder=\"0\"\n",
       "            allowfullscreen\n",
       "            \n",
       "        ></iframe>\n",
       "        "
      ]
     },
     "execution_count": 32,
     "metadata": {},
     "output_type": "execute_result"
    }
   ],
   "execution_count": 32
  },
  {
   "metadata": {
    "ExecuteTime": {
     "end_time": "2024-10-22T18:43:00.482384Z",
     "start_time": "2024-10-22T18:43:00.281993Z"
    }
   },
   "cell_type": "code",
   "source": [
    "pre_model = ModelWrapper(chkpt_preproc_name)\n",
    "pre_model = pre_model.transform(ConvertQONNXtoFINN())\n",
    "\n",
    "pre_model.save(build_dir + \"/end2end_cnv_print.onnx\")\n",
    "showInNetron(build_dir + \"/end2end_cnv_print.onnx\")"
   ],
   "id": "80f0ace8d534eab5",
   "outputs": [
    {
     "name": "stdout",
     "output_type": "stream",
     "text": [
      "Stopping http://0.0.0.0:8081\n",
      "Serving 'Fast-QNN/outputs/txaviour/alexnet_cnv/end2end_cnv_print.onnx' at http://0.0.0.0:8081\n"
     ]
    },
    {
     "data": {
      "text/plain": [
       "<IPython.lib.display.IFrame at 0x7f3d651871c0>"
      ],
      "text/html": [
       "\n",
       "        <iframe\n",
       "            width=\"100%\"\n",
       "            height=\"400\"\n",
       "            src=\"http://localhost:8081/\"\n",
       "            frameborder=\"0\"\n",
       "            allowfullscreen\n",
       "            \n",
       "        ></iframe>\n",
       "        "
      ]
     },
     "execution_count": 33,
     "metadata": {},
     "output_type": "execute_result"
    }
   ],
   "execution_count": 33
  },
  {
   "metadata": {
    "ExecuteTime": {
     "end_time": "2024-10-22T18:43:02.258635Z",
     "start_time": "2024-10-22T18:43:00.536448Z"
    }
   },
   "cell_type": "code",
   "source": [
    "# join preprocessing and core model\n",
    "model = model.transform(MergeONNXModels(pre_model))\n",
    "# add input quantization annotation: UINT8 for all BNN-PYNQ models\n",
    "global_inp_name = model.graph.input[0].name\n",
    "model.set_tensor_datatype(global_inp_name, DataType[\"UINT8\"])\n",
    "\n",
    "model.save(build_dir + \"/end2end_cnv_print.onnx\")\n",
    "showInNetron(build_dir + \"/end2end_cnv_print.onnx\")"
   ],
   "id": "ec6d3a34d5460b37",
   "outputs": [
    {
     "name": "stderr",
     "output_type": "stream",
     "text": [
      "/tmp/home_dir/.local/lib/python3.10/site-packages/qonnx/transformation/infer_data_layouts.py:127: UserWarning: Assuming 4D input is NCHW\n",
      "  warnings.warn(\"Assuming 4D input is NCHW\")\n"
     ]
    },
    {
     "name": "stdout",
     "output_type": "stream",
     "text": [
      "Stopping http://0.0.0.0:8081\n",
      "Serving 'Fast-QNN/outputs/txaviour/alexnet_cnv/end2end_cnv_print.onnx' at http://0.0.0.0:8081\n"
     ]
    },
    {
     "data": {
      "text/plain": [
       "<IPython.lib.display.IFrame at 0x7f3d650dbb80>"
      ],
      "text/html": [
       "\n",
       "        <iframe\n",
       "            width=\"100%\"\n",
       "            height=\"400\"\n",
       "            src=\"http://localhost:8081/\"\n",
       "            frameborder=\"0\"\n",
       "            allowfullscreen\n",
       "            \n",
       "        ></iframe>\n",
       "        "
      ]
     },
     "execution_count": 34,
     "metadata": {},
     "output_type": "execute_result"
    }
   ],
   "execution_count": 34
  },
  {
   "metadata": {
    "ExecuteTime": {
     "end_time": "2024-10-22T18:43:04.098670Z",
     "start_time": "2024-10-22T18:43:02.311883Z"
    }
   },
   "cell_type": "code",
   "source": [
    "from qonnx.transformation.insert_topk import InsertTopK\n",
    "from qonnx.transformation.infer_datatypes import InferDataTypes\n",
    "\n",
    "# postprocessing: insert Top-1 node at the end\n",
    "model = model.transform(InsertTopK(k=1))\n",
    "chkpt_name = build_dir+\"/end2end_cnv_w1a1_pre_post.onnx\"\n",
    "# tidy-up again\n",
    "model = model.transform(InferShapes())\n",
    "model = model.transform(FoldConstants())\n",
    "model = model.transform(GiveUniqueNodeNames())\n",
    "model = model.transform(GiveReadableTensorNames())\n",
    "model = model.transform(InferDataTypes())\n",
    "model = model.transform(RemoveStaticGraphInputs())\n",
    "model.save(chkpt_name)\n",
    "\n",
    "showInNetron(build_dir+\"/end2end_cnv_w1a1_pre_post.onnx\")"
   ],
   "id": "f2e600e569f39b57",
   "outputs": [
    {
     "name": "stdout",
     "output_type": "stream",
     "text": [
      "Stopping http://0.0.0.0:8081\n",
      "Serving 'Fast-QNN/outputs/txaviour/alexnet_cnv/end2end_cnv_w1a1_pre_post.onnx' at http://0.0.0.0:8081\n"
     ]
    },
    {
     "data": {
      "text/plain": [
       "<IPython.lib.display.IFrame at 0x7f3d65179510>"
      ],
      "text/html": [
       "\n",
       "        <iframe\n",
       "            width=\"100%\"\n",
       "            height=\"400\"\n",
       "            src=\"http://localhost:8081/\"\n",
       "            frameborder=\"0\"\n",
       "            allowfullscreen\n",
       "            \n",
       "        ></iframe>\n",
       "        "
      ]
     },
     "execution_count": 35,
     "metadata": {},
     "output_type": "execute_result"
    }
   ],
   "execution_count": 35
  },
  {
   "metadata": {
    "ExecuteTime": {
     "end_time": "2024-10-22T18:43:05.370014Z",
     "start_time": "2024-10-22T18:43:04.177921Z"
    }
   },
   "cell_type": "code",
   "source": [
    "from finn.transformation.streamline import Streamline\n",
    "from qonnx.transformation.lower_convs_to_matmul import LowerConvsToMatMul\n",
    "from qonnx.transformation.bipolar_to_xnor import ConvertBipolarMatMulToXnorPopcount\n",
    "import finn.transformation.streamline.absorb as absorb\n",
    "from finn.transformation.streamline.reorder import MakeMaxPoolNHWC, MoveScalarLinearPastInvariants\n",
    "from qonnx.transformation.infer_data_layouts import InferDataLayouts\n",
    "from qonnx.transformation.general import RemoveUnusedTensors\n",
    "\n",
    "model = ModelWrapper(build_dir + \"/end2end_cnv_w1a1_pre_post.onnx\")\n",
    "model = model.transform(MoveScalarLinearPastInvariants())\n",
    "model.save(build_dir + \"/end2end_cnv_print.onnx\")\n",
    "showInNetron(build_dir + \"/end2end_cnv_print.onnx\")"
   ],
   "id": "eba125ed0b0792f7",
   "outputs": [
    {
     "name": "stdout",
     "output_type": "stream",
     "text": [
      "Stopping http://0.0.0.0:8081\n",
      "Serving 'Fast-QNN/outputs/txaviour/alexnet_cnv/end2end_cnv_print.onnx' at http://0.0.0.0:8081\n"
     ]
    },
    {
     "data": {
      "text/plain": [
       "<IPython.lib.display.IFrame at 0x7f3d682964a0>"
      ],
      "text/html": [
       "\n",
       "        <iframe\n",
       "            width=\"100%\"\n",
       "            height=\"400\"\n",
       "            src=\"http://localhost:8081/\"\n",
       "            frameborder=\"0\"\n",
       "            allowfullscreen\n",
       "            \n",
       "        ></iframe>\n",
       "        "
      ]
     },
     "execution_count": 36,
     "metadata": {},
     "output_type": "execute_result"
    }
   ],
   "execution_count": 36
  },
  {
   "metadata": {
    "ExecuteTime": {
     "end_time": "2024-10-22T18:43:23.315305Z",
     "start_time": "2024-10-22T18:43:05.416192Z"
    }
   },
   "cell_type": "code",
   "source": [
    "model = model.transform(Streamline())\n",
    "model.save(build_dir + \"/end2end_cnv_print.onnx\")\n",
    "showInNetron(build_dir + \"/end2end_cnv_print.onnx\")"
   ],
   "id": "e8012172b3962318",
   "outputs": [
    {
     "name": "stdout",
     "output_type": "stream",
     "text": [
      "Stopping http://0.0.0.0:8081\n",
      "Serving 'Fast-QNN/outputs/txaviour/alexnet_cnv/end2end_cnv_print.onnx' at http://0.0.0.0:8081\n"
     ]
    },
    {
     "data": {
      "text/plain": [
       "<IPython.lib.display.IFrame at 0x7f3d65189360>"
      ],
      "text/html": [
       "\n",
       "        <iframe\n",
       "            width=\"100%\"\n",
       "            height=\"400\"\n",
       "            src=\"http://localhost:8081/\"\n",
       "            frameborder=\"0\"\n",
       "            allowfullscreen\n",
       "            \n",
       "        ></iframe>\n",
       "        "
      ]
     },
     "execution_count": 37,
     "metadata": {},
     "output_type": "execute_result"
    }
   ],
   "execution_count": 37
  },
  {
   "metadata": {
    "ExecuteTime": {
     "end_time": "2024-10-22T18:43:24.321837Z",
     "start_time": "2024-10-22T18:43:23.338012Z"
    }
   },
   "cell_type": "code",
   "source": [
    "model = model.transform(LowerConvsToMatMul())\n",
    "model.save(build_dir + \"/end2end_cnv_print.onnx\")\n",
    "showInNetron(build_dir + \"/end2end_cnv_print.onnx\")"
   ],
   "id": "2f4d064a147d1a90",
   "outputs": [
    {
     "name": "stdout",
     "output_type": "stream",
     "text": [
      "Stopping http://0.0.0.0:8081\n",
      "Serving 'Fast-QNN/outputs/txaviour/alexnet_cnv/end2end_cnv_print.onnx' at http://0.0.0.0:8081\n"
     ]
    },
    {
     "data": {
      "text/plain": [
       "<IPython.lib.display.IFrame at 0x7f3d64faac80>"
      ],
      "text/html": [
       "\n",
       "        <iframe\n",
       "            width=\"100%\"\n",
       "            height=\"400\"\n",
       "            src=\"http://localhost:8081/\"\n",
       "            frameborder=\"0\"\n",
       "            allowfullscreen\n",
       "            \n",
       "        ></iframe>\n",
       "        "
      ]
     },
     "execution_count": 38,
     "metadata": {},
     "output_type": "execute_result"
    }
   ],
   "execution_count": 38
  },
  {
   "metadata": {
    "ExecuteTime": {
     "end_time": "2024-10-22T18:43:25.320493Z",
     "start_time": "2024-10-22T18:43:24.357594Z"
    }
   },
   "cell_type": "code",
   "source": [
    "model = model.transform(MakeMaxPoolNHWC())\n",
    "model.save(build_dir + \"/end2end_cnv_print.onnx\")\n",
    "showInNetron(build_dir + \"/end2end_cnv_print.onnx\")"
   ],
   "id": "3e83c2d78b87659",
   "outputs": [
    {
     "name": "stdout",
     "output_type": "stream",
     "text": [
      "Stopping http://0.0.0.0:8081\n",
      "Serving 'Fast-QNN/outputs/txaviour/alexnet_cnv/end2end_cnv_print.onnx' at http://0.0.0.0:8081\n"
     ]
    },
    {
     "data": {
      "text/plain": [
       "<IPython.lib.display.IFrame at 0x7f3d651a31f0>"
      ],
      "text/html": [
       "\n",
       "        <iframe\n",
       "            width=\"100%\"\n",
       "            height=\"400\"\n",
       "            src=\"http://localhost:8081/\"\n",
       "            frameborder=\"0\"\n",
       "            allowfullscreen\n",
       "            \n",
       "        ></iframe>\n",
       "        "
      ]
     },
     "execution_count": 39,
     "metadata": {},
     "output_type": "execute_result"
    }
   ],
   "execution_count": 39
  },
  {
   "metadata": {
    "ExecuteTime": {
     "end_time": "2024-10-22T18:43:26.327695Z",
     "start_time": "2024-10-22T18:43:25.350674Z"
    }
   },
   "cell_type": "code",
   "source": [
    "model = model.transform(absorb.AbsorbTransposeIntoMultiThreshold())\n",
    "model.save(build_dir + \"/end2end_cnv_print.onnx\")\n",
    "showInNetron(build_dir + \"/end2end_cnv_print.onnx\")"
   ],
   "id": "db5be5139221cf78",
   "outputs": [
    {
     "name": "stdout",
     "output_type": "stream",
     "text": [
      "Stopping http://0.0.0.0:8081\n",
      "Serving 'Fast-QNN/outputs/txaviour/alexnet_cnv/end2end_cnv_print.onnx' at http://0.0.0.0:8081\n"
     ]
    },
    {
     "data": {
      "text/plain": [
       "<IPython.lib.display.IFrame at 0x7f3d651b1cf0>"
      ],
      "text/html": [
       "\n",
       "        <iframe\n",
       "            width=\"100%\"\n",
       "            height=\"400\"\n",
       "            src=\"http://localhost:8081/\"\n",
       "            frameborder=\"0\"\n",
       "            allowfullscreen\n",
       "            \n",
       "        ></iframe>\n",
       "        "
      ]
     },
     "execution_count": 40,
     "metadata": {},
     "output_type": "execute_result"
    }
   ],
   "execution_count": 40
  },
  {
   "metadata": {
    "ExecuteTime": {
     "end_time": "2024-10-22T18:43:27.330935Z",
     "start_time": "2024-10-22T18:43:26.367107Z"
    }
   },
   "cell_type": "code",
   "source": [
    "model = model.transform(ConvertBipolarMatMulToXnorPopcount())\n",
    "model.save(build_dir + \"/end2end_cnv_print.onnx\")\n",
    "showInNetron(build_dir + \"/end2end_cnv_print.onnx\")"
   ],
   "id": "da9bb10c0cd31281",
   "outputs": [
    {
     "name": "stdout",
     "output_type": "stream",
     "text": [
      "Stopping http://0.0.0.0:8081\n",
      "Serving 'Fast-QNN/outputs/txaviour/alexnet_cnv/end2end_cnv_print.onnx' at http://0.0.0.0:8081\n"
     ]
    },
    {
     "data": {
      "text/plain": [
       "<IPython.lib.display.IFrame at 0x7f3d651e2a40>"
      ],
      "text/html": [
       "\n",
       "        <iframe\n",
       "            width=\"100%\"\n",
       "            height=\"400\"\n",
       "            src=\"http://localhost:8081/\"\n",
       "            frameborder=\"0\"\n",
       "            allowfullscreen\n",
       "            \n",
       "        ></iframe>\n",
       "        "
      ]
     },
     "execution_count": 41,
     "metadata": {},
     "output_type": "execute_result"
    }
   ],
   "execution_count": 41
  },
  {
   "metadata": {
    "ExecuteTime": {
     "end_time": "2024-10-22T18:43:44.980838Z",
     "start_time": "2024-10-22T18:43:27.369424Z"
    }
   },
   "cell_type": "code",
   "source": [
    "model = model.transform(Streamline())\n",
    "model.save(build_dir + \"/end2end_cnv_print.onnx\")\n",
    "showInNetron(build_dir + \"/end2end_cnv_print.onnx\")"
   ],
   "id": "6aaf55c31c9264f1",
   "outputs": [
    {
     "name": "stdout",
     "output_type": "stream",
     "text": [
      "Stopping http://0.0.0.0:8081\n",
      "Serving 'Fast-QNN/outputs/txaviour/alexnet_cnv/end2end_cnv_print.onnx' at http://0.0.0.0:8081\n"
     ]
    },
    {
     "data": {
      "text/plain": [
       "<IPython.lib.display.IFrame at 0x7f3d65189ed0>"
      ],
      "text/html": [
       "\n",
       "        <iframe\n",
       "            width=\"100%\"\n",
       "            height=\"400\"\n",
       "            src=\"http://localhost:8081/\"\n",
       "            frameborder=\"0\"\n",
       "            allowfullscreen\n",
       "            \n",
       "        ></iframe>\n",
       "        "
      ]
     },
     "execution_count": 42,
     "metadata": {},
     "output_type": "execute_result"
    }
   ],
   "execution_count": 42
  },
  {
   "metadata": {
    "ExecuteTime": {
     "end_time": "2024-10-22T18:43:45.990864Z",
     "start_time": "2024-10-22T18:43:45.028269Z"
    }
   },
   "cell_type": "code",
   "source": [
    "# absorb final add-mul nodes into TopK\n",
    "model = model.transform(absorb.AbsorbScalarMulAddIntoTopK())\n",
    "model.save(build_dir + \"/end2end_cnv_print.onnx\")\n",
    "showInNetron(build_dir + \"/end2end_cnv_print.onnx\")"
   ],
   "id": "cbe33af313ead990",
   "outputs": [
    {
     "name": "stdout",
     "output_type": "stream",
     "text": [
      "Stopping http://0.0.0.0:8081\n",
      "Serving 'Fast-QNN/outputs/txaviour/alexnet_cnv/end2end_cnv_print.onnx' at http://0.0.0.0:8081\n"
     ]
    },
    {
     "data": {
      "text/plain": [
       "<IPython.lib.display.IFrame at 0x7f3d651b0340>"
      ],
      "text/html": [
       "\n",
       "        <iframe\n",
       "            width=\"100%\"\n",
       "            height=\"400\"\n",
       "            src=\"http://localhost:8081/\"\n",
       "            frameborder=\"0\"\n",
       "            allowfullscreen\n",
       "            \n",
       "        ></iframe>\n",
       "        "
      ]
     },
     "execution_count": 43,
     "metadata": {},
     "output_type": "execute_result"
    }
   ],
   "execution_count": 43
  },
  {
   "metadata": {
    "ExecuteTime": {
     "end_time": "2024-10-22T18:43:46.985211Z",
     "start_time": "2024-10-22T18:43:46.026688Z"
    }
   },
   "cell_type": "code",
   "source": [
    "model = model.transform(InferDataLayouts())\n",
    "model.save(build_dir + \"/end2end_cnv_print.onnx\")\n",
    "showInNetron(build_dir + \"/end2end_cnv_print.onnx\")"
   ],
   "id": "d5d4e17d5aa08f64",
   "outputs": [
    {
     "name": "stdout",
     "output_type": "stream",
     "text": [
      "Stopping http://0.0.0.0:8081\n",
      "Serving 'Fast-QNN/outputs/txaviour/alexnet_cnv/end2end_cnv_print.onnx' at http://0.0.0.0:8081\n"
     ]
    },
    {
     "data": {
      "text/plain": [
       "<IPython.lib.display.IFrame at 0x7f3d650f3940>"
      ],
      "text/html": [
       "\n",
       "        <iframe\n",
       "            width=\"100%\"\n",
       "            height=\"400\"\n",
       "            src=\"http://localhost:8081/\"\n",
       "            frameborder=\"0\"\n",
       "            allowfullscreen\n",
       "            \n",
       "        ></iframe>\n",
       "        "
      ]
     },
     "execution_count": 44,
     "metadata": {},
     "output_type": "execute_result"
    }
   ],
   "execution_count": 44
  },
  {
   "metadata": {
    "ExecuteTime": {
     "end_time": "2024-10-22T18:43:47.990702Z",
     "start_time": "2024-10-22T18:43:47.006804Z"
    }
   },
   "cell_type": "code",
   "source": [
    "model = model.transform(RemoveUnusedTensors())\n",
    "model.save(build_dir + \"/end2end_cnv_w1a1_streamlined.onnx\")\n",
    "showInNetron(build_dir+\"/end2end_cnv_w1a1_streamlined.onnx\")"
   ],
   "id": "9d56a7d319b0000a",
   "outputs": [
    {
     "name": "stdout",
     "output_type": "stream",
     "text": [
      "Stopping http://0.0.0.0:8081\n",
      "Serving 'Fast-QNN/outputs/txaviour/alexnet_cnv/end2end_cnv_w1a1_streamlined.onnx' at http://0.0.0.0:8081\n"
     ]
    },
    {
     "data": {
      "text/plain": [
       "<IPython.lib.display.IFrame at 0x7f3d65188100>"
      ],
      "text/html": [
       "\n",
       "        <iframe\n",
       "            width=\"100%\"\n",
       "            height=\"400\"\n",
       "            src=\"http://localhost:8081/\"\n",
       "            frameborder=\"0\"\n",
       "            allowfullscreen\n",
       "            \n",
       "        ></iframe>\n",
       "        "
      ]
     },
     "execution_count": 45,
     "metadata": {},
     "output_type": "execute_result"
    }
   ],
   "execution_count": 45
  },
  {
   "metadata": {
    "ExecuteTime": {
     "end_time": "2024-10-22T18:43:49.337966Z",
     "start_time": "2024-10-22T18:43:48.019592Z"
    }
   },
   "cell_type": "code",
   "source": [
    "from finn.util.basic import pynq_part_map\n",
    "# change this if you have a different PYNQ board, see list above\n",
    "pynq_board = \"Pynq-Z2\"\n",
    "fpga_part = pynq_part_map[pynq_board]\n",
    "target_clk_ns = 10\n",
    "\n",
    "import finn.transformation.fpgadataflow.convert_to_hw_layers as to_hw\n",
    "from finn.transformation.fpgadataflow.create_dataflow_partition import (\n",
    "    CreateDataflowPartition,\n",
    ")\n",
    "from finn.transformation.move_reshape import RemoveCNVtoFCFlatten\n",
    "from finn.transformation.fpgadataflow.specialize_layers import SpecializeLayers\n",
    "from qonnx.custom_op.registry import getCustomOp\n",
    "from qonnx.transformation.infer_data_layouts import InferDataLayouts\n",
    "\n",
    "model = ModelWrapper(build_dir + \"/end2end_cnv_w1a1_streamlined.onnx\")\n",
    "model = model.transform(to_hw.InferBinaryMatrixVectorActivation())\n",
    "model.save(build_dir + \"/end2end_cnv_print.onnx\")\n",
    "showInNetron(build_dir + \"/end2end_cnv_print.onnx\")"
   ],
   "id": "529d2117709b0c82",
   "outputs": [
    {
     "name": "stdout",
     "output_type": "stream",
     "text": [
      "Stopping http://0.0.0.0:8081\n",
      "Serving 'Fast-QNN/outputs/txaviour/alexnet_cnv/end2end_cnv_print.onnx' at http://0.0.0.0:8081\n"
     ]
    },
    {
     "data": {
      "text/plain": [
       "<IPython.lib.display.IFrame at 0x7f3e1c54d240>"
      ],
      "text/html": [
       "\n",
       "        <iframe\n",
       "            width=\"100%\"\n",
       "            height=\"400\"\n",
       "            src=\"http://localhost:8081/\"\n",
       "            frameborder=\"0\"\n",
       "            allowfullscreen\n",
       "            \n",
       "        ></iframe>\n",
       "        "
      ]
     },
     "execution_count": 46,
     "metadata": {},
     "output_type": "execute_result"
    }
   ],
   "execution_count": 46
  },
  {
   "metadata": {
    "ExecuteTime": {
     "end_time": "2024-10-22T18:43:50.355989Z",
     "start_time": "2024-10-22T18:43:49.392394Z"
    }
   },
   "cell_type": "code",
   "source": [
    "model = model.transform(to_hw.InferQuantizedMatrixVectorActivation())\n",
    "model.save(build_dir + \"/end2end_cnv_print.onnx\")\n",
    "showInNetron(build_dir + \"/end2end_cnv_print.onnx\")"
   ],
   "id": "95a0b3ebb3b1641e",
   "outputs": [
    {
     "name": "stdout",
     "output_type": "stream",
     "text": [
      "Stopping http://0.0.0.0:8081\n",
      "Serving 'Fast-QNN/outputs/txaviour/alexnet_cnv/end2end_cnv_print.onnx' at http://0.0.0.0:8081\n"
     ]
    },
    {
     "data": {
      "text/plain": [
       "<IPython.lib.display.IFrame at 0x7f3e343229e0>"
      ],
      "text/html": [
       "\n",
       "        <iframe\n",
       "            width=\"100%\"\n",
       "            height=\"400\"\n",
       "            src=\"http://localhost:8081/\"\n",
       "            frameborder=\"0\"\n",
       "            allowfullscreen\n",
       "            \n",
       "        ></iframe>\n",
       "        "
      ]
     },
     "execution_count": 47,
     "metadata": {},
     "output_type": "execute_result"
    }
   ],
   "execution_count": 47
  },
  {
   "metadata": {
    "ExecuteTime": {
     "end_time": "2024-10-22T18:43:51.357527Z",
     "start_time": "2024-10-22T18:43:50.386737Z"
    }
   },
   "cell_type": "code",
   "source": [
    "# TopK to LabelSelect\n",
    "model = model.transform(to_hw.InferLabelSelectLayer())\n",
    "model.save(build_dir + \"/end2end_cnv_print.onnx\")\n",
    "showInNetron(build_dir + \"/end2end_cnv_print.onnx\")"
   ],
   "id": "7c11d20c28b654d8",
   "outputs": [
    {
     "name": "stdout",
     "output_type": "stream",
     "text": [
      "Stopping http://0.0.0.0:8081\n",
      "Serving 'Fast-QNN/outputs/txaviour/alexnet_cnv/end2end_cnv_print.onnx' at http://0.0.0.0:8081\n"
     ]
    },
    {
     "data": {
      "text/plain": [
       "<IPython.lib.display.IFrame at 0x7f3d651e3bb0>"
      ],
      "text/html": [
       "\n",
       "        <iframe\n",
       "            width=\"100%\"\n",
       "            height=\"400\"\n",
       "            src=\"http://localhost:8081/\"\n",
       "            frameborder=\"0\"\n",
       "            allowfullscreen\n",
       "            \n",
       "        ></iframe>\n",
       "        "
      ]
     },
     "execution_count": 48,
     "metadata": {},
     "output_type": "execute_result"
    }
   ],
   "execution_count": 48
  },
  {
   "metadata": {
    "ExecuteTime": {
     "end_time": "2024-10-22T18:43:52.367400Z",
     "start_time": "2024-10-22T18:43:51.384413Z"
    }
   },
   "cell_type": "code",
   "source": [
    "# input quantization (if any) to standalone thresholding\n",
    "model = model.transform(to_hw.InferThresholdingLayer())\n",
    "model.save(build_dir + \"/end2end_cnv_print.onnx\")\n",
    "showInNetron(build_dir + \"/end2end_cnv_print.onnx\")"
   ],
   "id": "449a631aa57fa0f8",
   "outputs": [
    {
     "name": "stdout",
     "output_type": "stream",
     "text": [
      "Stopping http://0.0.0.0:8081\n",
      "Serving 'Fast-QNN/outputs/txaviour/alexnet_cnv/end2end_cnv_print.onnx' at http://0.0.0.0:8081\n"
     ]
    },
    {
     "data": {
      "text/plain": [
       "<IPython.lib.display.IFrame at 0x7f3d651b0760>"
      ],
      "text/html": [
       "\n",
       "        <iframe\n",
       "            width=\"100%\"\n",
       "            height=\"400\"\n",
       "            src=\"http://localhost:8081/\"\n",
       "            frameborder=\"0\"\n",
       "            allowfullscreen\n",
       "            \n",
       "        ></iframe>\n",
       "        "
      ]
     },
     "execution_count": 49,
     "metadata": {},
     "output_type": "execute_result"
    }
   ],
   "execution_count": 49
  },
  {
   "metadata": {
    "ExecuteTime": {
     "end_time": "2024-10-22T18:43:53.872350Z",
     "start_time": "2024-10-22T18:43:52.418622Z"
    }
   },
   "cell_type": "code",
   "source": [
    "model = model.transform(to_hw.InferConvInpGen())\n",
    "model.save(build_dir + \"/end2end_cnv_print.onnx\")\n",
    "showInNetron(build_dir + \"/end2end_cnv_print.onnx\")"
   ],
   "id": "cad71d725c340758",
   "outputs": [
    {
     "name": "stderr",
     "output_type": "stream",
     "text": [
      "/home/fastqnn/finn/src/finn/transformation/fpgadataflow/convert_to_hw_layers.py:63: UserWarning: Im2Col_1 : Input is not int. Can't infer ConvInpGen.\n",
      "  warnings.warn(\"%s : Input is not int. Can't infer ConvInpGen.\" % n.name)\n",
      "/home/fastqnn/finn/src/finn/transformation/fpgadataflow/convert_to_hw_layers.py:63: UserWarning: Im2Col_2 : Input is not int. Can't infer ConvInpGen.\n",
      "  warnings.warn(\"%s : Input is not int. Can't infer ConvInpGen.\" % n.name)\n",
      "/home/fastqnn/finn/src/finn/transformation/fpgadataflow/convert_to_hw_layers.py:63: UserWarning: Im2Col_3 : Input is not int. Can't infer ConvInpGen.\n",
      "  warnings.warn(\"%s : Input is not int. Can't infer ConvInpGen.\" % n.name)\n",
      "/home/fastqnn/finn/src/finn/transformation/fpgadataflow/convert_to_hw_layers.py:63: UserWarning: Im2Col_4 : Input is not int. Can't infer ConvInpGen.\n",
      "  warnings.warn(\"%s : Input is not int. Can't infer ConvInpGen.\" % n.name)\n"
     ]
    },
    {
     "name": "stdout",
     "output_type": "stream",
     "text": [
      "Stopping http://0.0.0.0:8081\n",
      "Serving 'Fast-QNN/outputs/txaviour/alexnet_cnv/end2end_cnv_print.onnx' at http://0.0.0.0:8081\n"
     ]
    },
    {
     "data": {
      "text/plain": [
       "<IPython.lib.display.IFrame at 0x7f3d651f9cc0>"
      ],
      "text/html": [
       "\n",
       "        <iframe\n",
       "            width=\"100%\"\n",
       "            height=\"400\"\n",
       "            src=\"http://localhost:8081/\"\n",
       "            frameborder=\"0\"\n",
       "            allowfullscreen\n",
       "            \n",
       "        ></iframe>\n",
       "        "
      ]
     },
     "execution_count": 50,
     "metadata": {},
     "output_type": "execute_result"
    }
   ],
   "execution_count": 50
  },
  {
   "metadata": {
    "ExecuteTime": {
     "end_time": "2024-10-22T18:43:54.867981Z",
     "start_time": "2024-10-22T18:43:53.990978Z"
    }
   },
   "cell_type": "code",
   "source": [
    "model = model.transform(to_hw.InferStreamingMaxPool())\n",
    "model.save(build_dir + \"/end2end_cnv_print.onnx\")\n",
    "showInNetron(build_dir + \"/end2end_cnv_print.onnx\")"
   ],
   "id": "fac25e3d0aefc473",
   "outputs": [
    {
     "name": "stderr",
     "output_type": "stream",
     "text": [
      "/home/fastqnn/finn/src/finn/transformation/fpgadataflow/convert_to_hw_layers.py:394: UserWarning: Stride is not equal to kernel. Node cannot be converted to\n",
      "                        StreamingMaxPool layer.\n",
      "  warnings.warn(warn_str)\n"
     ]
    },
    {
     "name": "stdout",
     "output_type": "stream",
     "text": [
      "Stopping http://0.0.0.0:8081\n",
      "Serving 'Fast-QNN/outputs/txaviour/alexnet_cnv/end2end_cnv_print.onnx' at http://0.0.0.0:8081\n"
     ]
    },
    {
     "data": {
      "text/plain": [
       "<IPython.lib.display.IFrame at 0x7f3d682370d0>"
      ],
      "text/html": [
       "\n",
       "        <iframe\n",
       "            width=\"100%\"\n",
       "            height=\"400\"\n",
       "            src=\"http://localhost:8081/\"\n",
       "            frameborder=\"0\"\n",
       "            allowfullscreen\n",
       "            \n",
       "        ></iframe>\n",
       "        "
      ]
     },
     "execution_count": 51,
     "metadata": {},
     "output_type": "execute_result"
    }
   ],
   "execution_count": 51
  },
  {
   "metadata": {
    "ExecuteTime": {
     "end_time": "2024-10-22T18:43:55.870010Z",
     "start_time": "2024-10-22T18:43:54.892748Z"
    }
   },
   "cell_type": "code",
   "source": [
    "# get rid of Reshape(-1, 1) operation between hw nodes\n",
    "model = model.transform(RemoveCNVtoFCFlatten())\n",
    "model.save(build_dir + \"/end2end_cnv_print.onnx\")\n",
    "showInNetron(build_dir + \"/end2end_cnv_print.onnx\")"
   ],
   "id": "d39781b73e16bf92",
   "outputs": [
    {
     "name": "stdout",
     "output_type": "stream",
     "text": [
      "Stopping http://0.0.0.0:8081\n",
      "Serving 'Fast-QNN/outputs/txaviour/alexnet_cnv/end2end_cnv_print.onnx' at http://0.0.0.0:8081\n"
     ]
    },
    {
     "data": {
      "text/plain": [
       "<IPython.lib.display.IFrame at 0x7f3d650908b0>"
      ],
      "text/html": [
       "\n",
       "        <iframe\n",
       "            width=\"100%\"\n",
       "            height=\"400\"\n",
       "            src=\"http://localhost:8081/\"\n",
       "            frameborder=\"0\"\n",
       "            allowfullscreen\n",
       "            \n",
       "        ></iframe>\n",
       "        "
      ]
     },
     "execution_count": 52,
     "metadata": {},
     "output_type": "execute_result"
    }
   ],
   "execution_count": 52
  },
  {
   "metadata": {
    "ExecuteTime": {
     "end_time": "2024-10-22T18:43:56.871928Z",
     "start_time": "2024-10-22T18:43:55.914939Z"
    }
   },
   "cell_type": "code",
   "source": [
    "# get rid of Tranpose -> Tranpose identity seq\n",
    "model = model.transform(absorb.AbsorbConsecutiveTransposes())\n",
    "model.save(build_dir + \"/end2end_cnv_print.onnx\")\n",
    "showInNetron(build_dir + \"/end2end_cnv_print.onnx\")"
   ],
   "id": "d1c0f9e9ea000a12",
   "outputs": [
    {
     "name": "stdout",
     "output_type": "stream",
     "text": [
      "Stopping http://0.0.0.0:8081\n",
      "Serving 'Fast-QNN/outputs/txaviour/alexnet_cnv/end2end_cnv_print.onnx' at http://0.0.0.0:8081\n"
     ]
    },
    {
     "data": {
      "text/plain": [
       "<IPython.lib.display.IFrame at 0x7f3d64f95150>"
      ],
      "text/html": [
       "\n",
       "        <iframe\n",
       "            width=\"100%\"\n",
       "            height=\"400\"\n",
       "            src=\"http://localhost:8081/\"\n",
       "            frameborder=\"0\"\n",
       "            allowfullscreen\n",
       "            \n",
       "        ></iframe>\n",
       "        "
      ]
     },
     "execution_count": 53,
     "metadata": {},
     "output_type": "execute_result"
    }
   ],
   "execution_count": 53
  },
  {
   "metadata": {
    "ExecuteTime": {
     "end_time": "2024-10-22T18:43:59.377346Z",
     "start_time": "2024-10-22T18:43:58.457500Z"
    }
   },
   "cell_type": "code",
   "source": [
    "# infer tensor data layouts\n",
    "model = model.transform(InferDataLayouts())\n",
    "model.save(build_dir + \"/end2end_cnv_print.onnx\")\n",
    "showInNetron(build_dir + \"/end2end_cnv_print.onnx\")"
   ],
   "id": "97996fbc0238f0fd",
   "outputs": [
    {
     "name": "stdout",
     "output_type": "stream",
     "text": [
      "Stopping http://0.0.0.0:8081\n",
      "Serving 'Fast-QNN/outputs/txaviour/alexnet_cnv/end2end_cnv_print.onnx' at http://0.0.0.0:8081\n"
     ]
    },
    {
     "data": {
      "text/plain": [
       "<IPython.lib.display.IFrame at 0x7f3d650ada20>"
      ],
      "text/html": [
       "\n",
       "        <iframe\n",
       "            width=\"100%\"\n",
       "            height=\"400\"\n",
       "            src=\"http://localhost:8081/\"\n",
       "            frameborder=\"0\"\n",
       "            allowfullscreen\n",
       "            \n",
       "        ></iframe>\n",
       "        "
      ]
     },
     "execution_count": 54,
     "metadata": {},
     "output_type": "execute_result"
    }
   ],
   "execution_count": 54
  },
  {
   "metadata": {
    "ExecuteTime": {
     "end_time": "2024-10-22T18:42:30.582285Z",
     "start_time": "2024-10-22T18:42:29.671886Z"
    }
   },
   "cell_type": "code",
   "source": [
    "parent_model = model.transform(CreateDataflowPartition())\n",
    "parent_model.save(build_dir + \"/end2end_cnv_w1a1_dataflow_parent.onnx\")\n",
    "showInNetron(build_dir + \"/end2end_cnv_w1a1_dataflow_parent.onnx\")"
   ],
   "id": "2be1254a6039687d",
   "outputs": [
    {
     "name": "stdout",
     "output_type": "stream",
     "text": [
      "Stopping http://0.0.0.0:8081\n",
      "Serving 'Fast-QNN/outputs/txaviour/alexnet_cnv/end2end_cnv_w1a1_dataflow_parent.onnx' at http://0.0.0.0:8081\n"
     ]
    },
    {
     "data": {
      "text/plain": [
       "<IPython.lib.display.IFrame at 0x7f3d651707f0>"
      ],
      "text/html": [
       "\n",
       "        <iframe\n",
       "            width=\"100%\"\n",
       "            height=\"400\"\n",
       "            src=\"http://localhost:8081/\"\n",
       "            frameborder=\"0\"\n",
       "            allowfullscreen\n",
       "            \n",
       "        ></iframe>\n",
       "        "
      ]
     },
     "execution_count": 28,
     "metadata": {},
     "output_type": "execute_result"
    }
   ],
   "execution_count": 28
  },
  {
   "metadata": {},
   "cell_type": "code",
   "source": [
    "sdp_node = parent_model.get_nodes_by_op_type(\"StreamingDataflowPartition\")[0]\n",
    "sdp_node = getCustomOp(sdp_node)\n",
    "dataflow_model_filename = sdp_node.get_nodeattr(\"model\")\n",
    "# save the dataflow partition with a different name for easier access\n",
    "# and specialize the layers to HLS variants\n",
    "dataflow_model = ModelWrapper(dataflow_model_filename)\n",
    "dataflow_model.save(build_dir + \"/end2end_cnv_print.onnx\")\n",
    "showInNetron(build_dir + \"/end2end_cnv_print.onnx\")"
   ],
   "id": "76539f1694eb74a2",
   "outputs": [],
   "execution_count": null
  },
  {
   "metadata": {},
   "cell_type": "code",
   "source": [
    "dataflow_model = dataflow_model.transform(SpecializeLayers(fpga_part))\n",
    "dataflow_model.save(build_dir + \"/end2end_cnv_w1a1_dataflow_model.onnx\")\n",
    "showInNetron(build_dir + \"/end2end_cnv_w1a1_dataflow_model.onnx\")\n",
    "\n",
    "# showInNetron(build_dir + \"/end2end_cnv_w1a1_dataflow_parent.onnx\")\n",
    "\n",
    "# showInNetron(build_dir + \"/end2end_cnv_w1a1_dataflow_model.onnx\")"
   ],
   "id": "4ea38663cd28b82d",
   "outputs": [],
   "execution_count": null
  },
  {
   "metadata": {},
   "cell_type": "code",
   "source": [
    "model = ModelWrapper(build_dir + \"/end2end_cnv_w1a1_dataflow_model.onnx\")\n",
    "fc_layers = model.get_nodes_by_op_type(\"MVAU_hls\")\n",
    "# each tuple is (PE, SIMD, in_fifo_depth) for a layer\n",
    "folding = [\n",
    "    (16, 3, [128]),\n",
    "    (32, 32, [128]),\n",
    "    (16, 32, [128]),\n",
    "    (16, 32, [128]),\n",
    "    (4, 32, [81]),\n",
    "    (1, 32, [2]),\n",
    "    (1, 4, [2]),\n",
    "    (1, 8, [128]),\n",
    "    (5, 1, [3]),\n",
    "]\n",
    "for fcl, (pe, simd, ififodepth) in zip(fc_layers, folding):\n",
    "    fcl_inst = getCustomOp(fcl)\n",
    "    fcl_inst.set_nodeattr(\"PE\", pe)\n",
    "    fcl_inst.set_nodeattr(\"SIMD\", simd)\n",
    "    fcl_inst.set_nodeattr(\"inFIFODepths\", ififodepth)\n",
    "model.save(build_dir + \"/end2end_cnv_print.onnx\")\n",
    "showInNetron(build_dir + \"/end2end_cnv_print.onnx\")"
   ],
   "id": "fb183d121a5e9829",
   "outputs": [],
   "execution_count": null
  },
  {
   "metadata": {},
   "cell_type": "code",
   "source": [
    "# use same SIMD values for the sliding window operators\n",
    "swg_layers = model.get_nodes_by_op_type(\"ConvolutionInputGenerator_rtl\")\n",
    "for i in range(len(swg_layers)):\n",
    "    swg_inst = getCustomOp(swg_layers[i])\n",
    "    simd = folding[i][1]\n",
    "    swg_inst.set_nodeattr(\"SIMD\", simd)\n",
    "model.save(build_dir + \"/end2end_cnv_print.onnx\")\n",
    "showInNetron(build_dir + \"/end2end_cnv_print.onnx\")"
   ],
   "id": "dcb0029f5d0095fe",
   "outputs": [],
   "execution_count": null
  },
  {
   "metadata": {},
   "cell_type": "code",
   "source": [
    "model = model.transform(GiveUniqueNodeNames())\n",
    "model.save(build_dir + \"/end2end_cnv_w1a1_folded.onnx\")\n",
    "\n",
    "showInNetron(build_dir + \"/end2end_cnv_w1a1_folded.onnx\")"
   ],
   "id": "6a205c0662ec0e41",
   "outputs": [],
   "execution_count": null
  },
  {
   "metadata": {},
   "cell_type": "code",
   "source": [
    "\n",
    "from finn.transformation.fpgadataflow.make_zynq_proj import ZynqBuild\n",
    "model = ModelWrapper(build_dir+\"/end2end_cnv_w1a1_folded.onnx\")\n",
    "model = model.transform(ZynqBuild(platform = pynq_board, period_ns = target_clk_ns))\n",
    "model.save(build_dir + \"/end2end_cnv_print.onnx\")\n",
    "showInNetron(build_dir + \"/end2end_cnv_print.onnx\")"
   ],
   "id": "3edca35a0903c3f",
   "outputs": [],
   "execution_count": null
  },
  {
   "metadata": {},
   "cell_type": "code",
   "source": [
    "from finn.transformation.fpgadataflow.make_pynq_driver import MakePYNQDriver\n",
    "model = model.transform(MakePYNQDriver(\"zynq-iodma\"))\n",
    "model.save(build_dir + \"/end2end_cnv_w1a1_synth.onnx\")\n",
    "showInNetron(build_dir + \"/end2end_cnv_w1a1_synth.onnx\")"
   ],
   "id": "5b24f5ea77de752c",
   "outputs": [],
   "execution_count": null
  }
 ],
 "metadata": {
  "kernelspec": {
   "display_name": "Python 3",
   "language": "python",
   "name": "python3"
  },
  "language_info": {
   "codemirror_mode": {
    "name": "ipython",
    "version": 2
   },
   "file_extension": ".py",
   "mimetype": "text/x-python",
   "name": "python",
   "nbconvert_exporter": "python",
   "pygments_lexer": "ipython2",
   "version": "2.7.6"
  }
 },
 "nbformat": 4,
 "nbformat_minor": 5
}
