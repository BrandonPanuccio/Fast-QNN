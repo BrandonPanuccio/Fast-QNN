{
 "cells": [
  {
   "cell_type": "code",
   "id": "fe7729fc74263d70",
   "metadata": {
    "ExecuteTime": {
     "end_time": "2024-11-05T18:21:13.535240Z",
     "start_time": "2024-11-05T18:20:56.076382Z"
    }
   },
   "source": [
    "from finn.util.basic import make_build_dir\n",
    "from finn.util.visualization import showInNetron\n",
    "import os\n",
    "\n",
    "build_dir = \"Fast-QNN/outputs/txaviour/alexnet_cnv\"\n",
    "\n",
    "import torch\n",
    "import onnx\n",
    "from finn.util.test import get_test_model_trained\n",
    "from brevitas.export import export_qonnx\n",
    "from qonnx.util.cleanup import cleanup as qonnx_cleanup\n",
    "from qonnx.core.modelwrapper import ModelWrapper\n",
    "from finn.transformation.qonnx.convert_qonnx_to_finn import ConvertQONNXtoFINN\n",
    "from qonnx.transformation.infer_shapes import InferShapes\n",
    "from qonnx.transformation.fold_constants import FoldConstants\n",
    "from qonnx.transformation.general import GiveReadableTensorNames, GiveUniqueNodeNames, RemoveStaticGraphInputs\n",
    "\n",
    "cnv = torch.hub.load('pytorch/vision:v0.10.0', 'alexnet', pretrained=True)\n",
    "export_onnx_path = build_dir + \"/end2end_cnv_w1a1_export.onnx\"\n",
    "export_qonnx(cnv, torch.randn(1, 3, 224, 224), export_onnx_path)\n",
    "qonnx_cleanup(export_onnx_path, out_file=export_onnx_path)\n",
    "showInNetron(build_dir+\"/end2end_cnv_w1a1_export.onnx\")"
   ],
   "outputs": [
    {
     "name": "stderr",
     "output_type": "stream",
     "text": [
      "Downloading: \"https://github.com/pytorch/vision/zipball/v0.10.0\" to /tmp/home_dir/.cache/torch/hub/v0.10.0.zip\n",
      "/usr/local/lib/python3.10/dist-packages/torchvision/models/_utils.py:208: UserWarning: The parameter 'pretrained' is deprecated since 0.13 and may be removed in the future, please use 'weights' instead.\n",
      "  warnings.warn(\n",
      "/usr/local/lib/python3.10/dist-packages/torchvision/models/_utils.py:223: UserWarning: Arguments other than a weight enum or `None` for 'weights' are deprecated since 0.13 and may be removed in the future. The current behavior is equivalent to passing `weights=AlexNet_Weights.IMAGENET1K_V1`. You can also use `weights=AlexNet_Weights.DEFAULT` to get the most up-to-date weights.\n",
      "  warnings.warn(msg)\n",
      "Downloading: \"https://download.pytorch.org/models/alexnet-owt-7be5be79.pth\" to /tmp/home_dir/.cache/torch/hub/checkpoints/alexnet-owt-7be5be79.pth\n"
     ]
    },
    {
     "data": {
      "text/plain": [
       "  0%|          | 0.00/233M [00:00<?, ?B/s]"
      ],
      "application/vnd.jupyter.widget-view+json": {
       "version_major": 2,
       "version_minor": 0,
       "model_id": "f20dd2d1c5054cd980e5eff8425dd3ba"
      }
     },
     "metadata": {},
     "output_type": "display_data"
    },
    {
     "name": "stdout",
     "output_type": "stream",
     "text": [
      "Serving 'Fast-QNN/outputs/txaviour/alexnet_cnv/end2end_cnv_w1a1_export.onnx' at http://0.0.0.0:8081\n"
     ]
    },
    {
     "data": {
      "text/plain": [
       "<IPython.lib.display.IFrame at 0x7f441ea25a20>"
      ],
      "text/html": [
       "\n",
       "        <iframe\n",
       "            width=\"100%\"\n",
       "            height=\"400\"\n",
       "            src=\"http://localhost:8081/\"\n",
       "            frameborder=\"0\"\n",
       "            allowfullscreen\n",
       "            \n",
       "        ></iframe>\n",
       "        "
      ]
     },
     "execution_count": 1,
     "metadata": {},
     "output_type": "execute_result"
    }
   ],
   "execution_count": 1
  },
  {
   "metadata": {
    "ExecuteTime": {
     "end_time": "2024-11-05T18:21:19.220663Z",
     "start_time": "2024-11-05T18:21:13.574907Z"
    }
   },
   "cell_type": "code",
   "source": [
    "model = ModelWrapper(export_onnx_path)\n",
    "model = model.transform(ConvertQONNXtoFINN())\n",
    "model.save(build_dir + \"/end2end_cnv_print.onnx\")\n",
    "showInNetron(build_dir + \"/end2end_cnv_print.onnx\")"
   ],
   "id": "d68694dec8083d42",
   "outputs": [
    {
     "name": "stderr",
     "output_type": "stream",
     "text": [
      "/tmp/home_dir/.local/lib/python3.10/site-packages/qonnx/transformation/gemm_to_matmul.py:57: UserWarning: The GemmToMatMul transformation only offers explicit support for version 9 of the Gemm node, but the ONNX version of the supplied model is 14. Thus the transformation may fail or return incomplete results.\n",
      "  warnings.warn(\n"
     ]
    },
    {
     "name": "stdout",
     "output_type": "stream",
     "text": [
      "Stopping http://0.0.0.0:8081\n",
      "Serving 'Fast-QNN/outputs/txaviour/alexnet_cnv/end2end_cnv_print.onnx' at http://0.0.0.0:8081\n"
     ]
    },
    {
     "data": {
      "text/plain": [
       "<IPython.lib.display.IFrame at 0x7f441ea87220>"
      ],
      "text/html": [
       "\n",
       "        <iframe\n",
       "            width=\"100%\"\n",
       "            height=\"400\"\n",
       "            src=\"http://localhost:8081/\"\n",
       "            frameborder=\"0\"\n",
       "            allowfullscreen\n",
       "            \n",
       "        ></iframe>\n",
       "        "
      ]
     },
     "execution_count": 2,
     "metadata": {},
     "output_type": "execute_result"
    }
   ],
   "execution_count": 2
  },
  {
   "metadata": {
    "collapsed": true,
    "ExecuteTime": {
     "end_time": "2024-11-05T18:21:22.571183Z",
     "start_time": "2024-11-05T18:21:19.484669Z"
    }
   },
   "cell_type": "code",
   "source": [
    "model = model.transform(InferShapes())\n",
    "model = model.transform(FoldConstants())\n",
    "model = model.transform(GiveUniqueNodeNames())\n",
    "model = model.transform(GiveReadableTensorNames())\n",
    "model = model.transform(RemoveStaticGraphInputs())\n",
    "model.save(build_dir + \"/end2end_cnv_w1a1_tidy.onnx\")\n",
    "\n",
    "showInNetron(build_dir+\"/end2end_cnv_w1a1_tidy.onnx\")"
   ],
   "id": "initial_id",
   "outputs": [
    {
     "name": "stdout",
     "output_type": "stream",
     "text": [
      "Stopping http://0.0.0.0:8081\n",
      "Serving 'Fast-QNN/outputs/txaviour/alexnet_cnv/end2end_cnv_w1a1_tidy.onnx' at http://0.0.0.0:8081\n"
     ]
    },
    {
     "data": {
      "text/plain": [
       "<IPython.lib.display.IFrame at 0x7f441c14c040>"
      ],
      "text/html": [
       "\n",
       "        <iframe\n",
       "            width=\"100%\"\n",
       "            height=\"400\"\n",
       "            src=\"http://localhost:8081/\"\n",
       "            frameborder=\"0\"\n",
       "            allowfullscreen\n",
       "            \n",
       "        ></iframe>\n",
       "        "
      ]
     },
     "execution_count": 3,
     "metadata": {},
     "output_type": "execute_result"
    }
   ],
   "execution_count": 3
  },
  {
   "metadata": {
    "ExecuteTime": {
     "end_time": "2024-11-05T18:21:23.079334Z",
     "start_time": "2024-11-05T18:21:22.618660Z"
    }
   },
   "cell_type": "code",
   "source": [
    "from finn.util.pytorch import ToTensor\n",
    "from qonnx.transformation.merge_onnx_models import MergeONNXModels\n",
    "from qonnx.core.datatype import DataType\n",
    "\n",
    "model = ModelWrapper(build_dir+\"/end2end_cnv_w1a1_tidy.onnx\")\n",
    "global_inp_name = model.graph.input[0].name\n",
    "ishape = model.get_tensor_shape(global_inp_name)\n",
    "# preprocessing: torchvision's ToTensor divides uint8 inputs by 255\n",
    "totensor_pyt = ToTensor()\n",
    "chkpt_preproc_name = build_dir+\"/end2end_cnv_w1a1_preproc.onnx\"\n",
    "export_qonnx(totensor_pyt, torch.randn(ishape), chkpt_preproc_name)\n",
    "qonnx_cleanup(chkpt_preproc_name, out_file=chkpt_preproc_name)\n",
    "showInNetron(chkpt_preproc_name)"
   ],
   "id": "1dc5f01ad06776d9",
   "outputs": [
    {
     "name": "stdout",
     "output_type": "stream",
     "text": [
      "Stopping http://0.0.0.0:8081\n",
      "Serving 'Fast-QNN/outputs/txaviour/alexnet_cnv/end2end_cnv_w1a1_preproc.onnx' at http://0.0.0.0:8081\n"
     ]
    },
    {
     "data": {
      "text/plain": [
       "<IPython.lib.display.IFrame at 0x7f441c160520>"
      ],
      "text/html": [
       "\n",
       "        <iframe\n",
       "            width=\"100%\"\n",
       "            height=\"400\"\n",
       "            src=\"http://localhost:8081/\"\n",
       "            frameborder=\"0\"\n",
       "            allowfullscreen\n",
       "            \n",
       "        ></iframe>\n",
       "        "
      ]
     },
     "execution_count": 4,
     "metadata": {},
     "output_type": "execute_result"
    }
   ],
   "execution_count": 4
  },
  {
   "metadata": {
    "ExecuteTime": {
     "end_time": "2024-11-05T18:21:23.330393Z",
     "start_time": "2024-11-05T18:21:23.136715Z"
    }
   },
   "cell_type": "code",
   "source": [
    "pre_model = ModelWrapper(chkpt_preproc_name)\n",
    "pre_model = pre_model.transform(ConvertQONNXtoFINN())\n",
    "\n",
    "pre_model.save(build_dir + \"/end2end_cnv_print.onnx\")\n",
    "showInNetron(build_dir + \"/end2end_cnv_print.onnx\")"
   ],
   "id": "80f0ace8d534eab5",
   "outputs": [
    {
     "name": "stdout",
     "output_type": "stream",
     "text": [
      "Stopping http://0.0.0.0:8081\n",
      "Serving 'Fast-QNN/outputs/txaviour/alexnet_cnv/end2end_cnv_print.onnx' at http://0.0.0.0:8081\n"
     ]
    },
    {
     "data": {
      "text/plain": [
       "<IPython.lib.display.IFrame at 0x7f441c2093c0>"
      ],
      "text/html": [
       "\n",
       "        <iframe\n",
       "            width=\"100%\"\n",
       "            height=\"400\"\n",
       "            src=\"http://localhost:8081/\"\n",
       "            frameborder=\"0\"\n",
       "            allowfullscreen\n",
       "            \n",
       "        ></iframe>\n",
       "        "
      ]
     },
     "execution_count": 5,
     "metadata": {},
     "output_type": "execute_result"
    }
   ],
   "execution_count": 5
  },
  {
   "metadata": {
    "ExecuteTime": {
     "end_time": "2024-11-05T18:21:25.061236Z",
     "start_time": "2024-11-05T18:21:23.381411Z"
    }
   },
   "cell_type": "code",
   "source": [
    "# join preprocessing and core model\n",
    "model = model.transform(MergeONNXModels(pre_model))\n",
    "# add input quantization annotation: UINT8 for all BNN-PYNQ models\n",
    "global_inp_name = model.graph.input[0].name\n",
    "model.set_tensor_datatype(global_inp_name, DataType[\"UINT8\"])\n",
    "\n",
    "model.save(build_dir + \"/end2end_cnv_print.onnx\")\n",
    "showInNetron(build_dir + \"/end2end_cnv_print.onnx\")"
   ],
   "id": "ec6d3a34d5460b37",
   "outputs": [
    {
     "name": "stderr",
     "output_type": "stream",
     "text": [
      "/tmp/home_dir/.local/lib/python3.10/site-packages/qonnx/transformation/infer_data_layouts.py:127: UserWarning: Assuming 4D input is NCHW\n",
      "  warnings.warn(\"Assuming 4D input is NCHW\")\n"
     ]
    },
    {
     "name": "stdout",
     "output_type": "stream",
     "text": [
      "Stopping http://0.0.0.0:8081\n",
      "Serving 'Fast-QNN/outputs/txaviour/alexnet_cnv/end2end_cnv_print.onnx' at http://0.0.0.0:8081\n"
     ]
    },
    {
     "data": {
      "text/plain": [
       "<IPython.lib.display.IFrame at 0x7f441c208850>"
      ],
      "text/html": [
       "\n",
       "        <iframe\n",
       "            width=\"100%\"\n",
       "            height=\"400\"\n",
       "            src=\"http://localhost:8081/\"\n",
       "            frameborder=\"0\"\n",
       "            allowfullscreen\n",
       "            \n",
       "        ></iframe>\n",
       "        "
      ]
     },
     "execution_count": 6,
     "metadata": {},
     "output_type": "execute_result"
    }
   ],
   "execution_count": 6
  },
  {
   "metadata": {
    "ExecuteTime": {
     "end_time": "2024-11-05T18:21:26.783948Z",
     "start_time": "2024-11-05T18:21:25.119029Z"
    }
   },
   "cell_type": "code",
   "source": [
    "from qonnx.transformation.insert_topk import InsertTopK\n",
    "from qonnx.transformation.infer_datatypes import InferDataTypes\n",
    "\n",
    "# postprocessing: insert Top-1 node at the end\n",
    "model = model.transform(InsertTopK(k=1))\n",
    "chkpt_name = build_dir+\"/end2end_cnv_w1a1_pre_post.onnx\"\n",
    "# tidy-up again\n",
    "model = model.transform(InferShapes())\n",
    "model = model.transform(FoldConstants())\n",
    "model = model.transform(GiveUniqueNodeNames())\n",
    "model = model.transform(GiveReadableTensorNames())\n",
    "model = model.transform(InferDataTypes())\n",
    "model = model.transform(RemoveStaticGraphInputs())\n",
    "model.save(chkpt_name)\n",
    "\n",
    "showInNetron(build_dir+\"/end2end_cnv_w1a1_pre_post.onnx\")"
   ],
   "id": "f2e600e569f39b57",
   "outputs": [
    {
     "name": "stdout",
     "output_type": "stream",
     "text": [
      "Stopping http://0.0.0.0:8081\n",
      "Serving 'Fast-QNN/outputs/txaviour/alexnet_cnv/end2end_cnv_w1a1_pre_post.onnx' at http://0.0.0.0:8081\n"
     ]
    },
    {
     "data": {
      "text/plain": [
       "<IPython.lib.display.IFrame at 0x7f441c1bf1c0>"
      ],
      "text/html": [
       "\n",
       "        <iframe\n",
       "            width=\"100%\"\n",
       "            height=\"400\"\n",
       "            src=\"http://localhost:8081/\"\n",
       "            frameborder=\"0\"\n",
       "            allowfullscreen\n",
       "            \n",
       "        ></iframe>\n",
       "        "
      ]
     },
     "execution_count": 7,
     "metadata": {},
     "output_type": "execute_result"
    }
   ],
   "execution_count": 7
  },
  {
   "metadata": {
    "ExecuteTime": {
     "end_time": "2024-11-05T18:21:28.042714Z",
     "start_time": "2024-11-05T18:21:26.829418Z"
    }
   },
   "cell_type": "code",
   "source": [
    "from finn.transformation.streamline import Streamline\n",
    "from qonnx.transformation.lower_convs_to_matmul import LowerConvsToMatMul\n",
    "from qonnx.transformation.bipolar_to_xnor import ConvertBipolarMatMulToXnorPopcount\n",
    "import finn.transformation.streamline.absorb as absorb\n",
    "from finn.transformation.streamline.reorder import MakeMaxPoolNHWC, MoveScalarLinearPastInvariants\n",
    "from qonnx.transformation.infer_data_layouts import InferDataLayouts\n",
    "from qonnx.transformation.general import RemoveUnusedTensors\n",
    "\n",
    "model = ModelWrapper(build_dir + \"/end2end_cnv_w1a1_pre_post.onnx\")\n",
    "model = model.transform(MoveScalarLinearPastInvariants())\n",
    "model.save(build_dir + \"/end2end_cnv_print.onnx\")\n",
    "showInNetron(build_dir + \"/end2end_cnv_print.onnx\")"
   ],
   "id": "eba125ed0b0792f7",
   "outputs": [
    {
     "name": "stdout",
     "output_type": "stream",
     "text": [
      "Stopping http://0.0.0.0:8081\n",
      "Serving 'Fast-QNN/outputs/txaviour/alexnet_cnv/end2end_cnv_print.onnx' at http://0.0.0.0:8081\n"
     ]
    },
    {
     "data": {
      "text/plain": [
       "<IPython.lib.display.IFrame at 0x7f441ea84b20>"
      ],
      "text/html": [
       "\n",
       "        <iframe\n",
       "            width=\"100%\"\n",
       "            height=\"400\"\n",
       "            src=\"http://localhost:8081/\"\n",
       "            frameborder=\"0\"\n",
       "            allowfullscreen\n",
       "            \n",
       "        ></iframe>\n",
       "        "
      ]
     },
     "execution_count": 8,
     "metadata": {},
     "output_type": "execute_result"
    }
   ],
   "execution_count": 8
  },
  {
   "metadata": {
    "ExecuteTime": {
     "end_time": "2024-11-05T18:21:46.584677Z",
     "start_time": "2024-11-05T18:21:28.082254Z"
    }
   },
   "cell_type": "code",
   "source": [
    "model = model.transform(Streamline())\n",
    "model.save(build_dir + \"/end2end_cnv_print.onnx\")\n",
    "showInNetron(build_dir + \"/end2end_cnv_print.onnx\")"
   ],
   "id": "e8012172b3962318",
   "outputs": [
    {
     "name": "stdout",
     "output_type": "stream",
     "text": [
      "Stopping http://0.0.0.0:8081\n",
      "Serving 'Fast-QNN/outputs/txaviour/alexnet_cnv/end2end_cnv_print.onnx' at http://0.0.0.0:8081\n"
     ]
    },
    {
     "data": {
      "text/plain": [
       "<IPython.lib.display.IFrame at 0x7f441c1e72b0>"
      ],
      "text/html": [
       "\n",
       "        <iframe\n",
       "            width=\"100%\"\n",
       "            height=\"400\"\n",
       "            src=\"http://localhost:8081/\"\n",
       "            frameborder=\"0\"\n",
       "            allowfullscreen\n",
       "            \n",
       "        ></iframe>\n",
       "        "
      ]
     },
     "execution_count": 9,
     "metadata": {},
     "output_type": "execute_result"
    }
   ],
   "execution_count": 9
  },
  {
   "metadata": {
    "ExecuteTime": {
     "end_time": "2024-11-05T18:21:47.586247Z",
     "start_time": "2024-11-05T18:21:46.633089Z"
    }
   },
   "cell_type": "code",
   "source": [
    "model = model.transform(LowerConvsToMatMul())\n",
    "model.save(build_dir + \"/end2end_cnv_print.onnx\")\n",
    "showInNetron(build_dir + \"/end2end_cnv_print.onnx\")"
   ],
   "id": "2f4d064a147d1a90",
   "outputs": [
    {
     "name": "stdout",
     "output_type": "stream",
     "text": [
      "Stopping http://0.0.0.0:8081\n",
      "Serving 'Fast-QNN/outputs/txaviour/alexnet_cnv/end2end_cnv_print.onnx' at http://0.0.0.0:8081\n"
     ]
    },
    {
     "data": {
      "text/plain": [
       "<IPython.lib.display.IFrame at 0x7f441ea25630>"
      ],
      "text/html": [
       "\n",
       "        <iframe\n",
       "            width=\"100%\"\n",
       "            height=\"400\"\n",
       "            src=\"http://localhost:8081/\"\n",
       "            frameborder=\"0\"\n",
       "            allowfullscreen\n",
       "            \n",
       "        ></iframe>\n",
       "        "
      ]
     },
     "execution_count": 10,
     "metadata": {},
     "output_type": "execute_result"
    }
   ],
   "execution_count": 10
  },
  {
   "metadata": {
    "ExecuteTime": {
     "end_time": "2024-11-05T18:21:48.588444Z",
     "start_time": "2024-11-05T18:21:47.600932Z"
    }
   },
   "cell_type": "code",
   "source": [
    "model = model.transform(MakeMaxPoolNHWC())\n",
    "model.save(build_dir + \"/end2end_cnv_print.onnx\")\n",
    "showInNetron(build_dir + \"/end2end_cnv_print.onnx\")"
   ],
   "id": "3e83c2d78b87659",
   "outputs": [
    {
     "name": "stdout",
     "output_type": "stream",
     "text": [
      "Stopping http://0.0.0.0:8081\n",
      "Serving 'Fast-QNN/outputs/txaviour/alexnet_cnv/end2end_cnv_print.onnx' at http://0.0.0.0:8081\n"
     ]
    },
    {
     "data": {
      "text/plain": [
       "<IPython.lib.display.IFrame at 0x7f441ea252a0>"
      ],
      "text/html": [
       "\n",
       "        <iframe\n",
       "            width=\"100%\"\n",
       "            height=\"400\"\n",
       "            src=\"http://localhost:8081/\"\n",
       "            frameborder=\"0\"\n",
       "            allowfullscreen\n",
       "            \n",
       "        ></iframe>\n",
       "        "
      ]
     },
     "execution_count": 11,
     "metadata": {},
     "output_type": "execute_result"
    }
   ],
   "execution_count": 11
  },
  {
   "metadata": {
    "ExecuteTime": {
     "end_time": "2024-11-05T18:21:49.589564Z",
     "start_time": "2024-11-05T18:21:48.640814Z"
    }
   },
   "cell_type": "code",
   "source": [
    "model = model.transform(absorb.AbsorbTransposeIntoMultiThreshold())\n",
    "model.save(build_dir + \"/end2end_cnv_print.onnx\")\n",
    "showInNetron(build_dir + \"/end2end_cnv_print.onnx\")"
   ],
   "id": "db5be5139221cf78",
   "outputs": [
    {
     "name": "stdout",
     "output_type": "stream",
     "text": [
      "Stopping http://0.0.0.0:8081\n",
      "Serving 'Fast-QNN/outputs/txaviour/alexnet_cnv/end2end_cnv_print.onnx' at http://0.0.0.0:8081\n"
     ]
    },
    {
     "data": {
      "text/plain": [
       "<IPython.lib.display.IFrame at 0x7f441c3b9480>"
      ],
      "text/html": [
       "\n",
       "        <iframe\n",
       "            width=\"100%\"\n",
       "            height=\"400\"\n",
       "            src=\"http://localhost:8081/\"\n",
       "            frameborder=\"0\"\n",
       "            allowfullscreen\n",
       "            \n",
       "        ></iframe>\n",
       "        "
      ]
     },
     "execution_count": 12,
     "metadata": {},
     "output_type": "execute_result"
    }
   ],
   "execution_count": 12
  },
  {
   "metadata": {
    "ExecuteTime": {
     "end_time": "2024-11-05T18:21:50.591825Z",
     "start_time": "2024-11-05T18:21:49.602472Z"
    }
   },
   "cell_type": "code",
   "source": [
    "model = model.transform(ConvertBipolarMatMulToXnorPopcount())\n",
    "model.save(build_dir + \"/end2end_cnv_print.onnx\")\n",
    "showInNetron(build_dir + \"/end2end_cnv_print.onnx\")"
   ],
   "id": "da9bb10c0cd31281",
   "outputs": [
    {
     "name": "stdout",
     "output_type": "stream",
     "text": [
      "Stopping http://0.0.0.0:8081\n",
      "Serving 'Fast-QNN/outputs/txaviour/alexnet_cnv/end2end_cnv_print.onnx' at http://0.0.0.0:8081\n"
     ]
    },
    {
     "data": {
      "text/plain": [
       "<IPython.lib.display.IFrame at 0x7f441c0f12d0>"
      ],
      "text/html": [
       "\n",
       "        <iframe\n",
       "            width=\"100%\"\n",
       "            height=\"400\"\n",
       "            src=\"http://localhost:8081/\"\n",
       "            frameborder=\"0\"\n",
       "            allowfullscreen\n",
       "            \n",
       "        ></iframe>\n",
       "        "
      ]
     },
     "execution_count": 13,
     "metadata": {},
     "output_type": "execute_result"
    }
   ],
   "execution_count": 13
  },
  {
   "metadata": {
    "ExecuteTime": {
     "end_time": "2024-11-05T18:22:08.774852Z",
     "start_time": "2024-11-05T18:21:50.628399Z"
    }
   },
   "cell_type": "code",
   "source": [
    "model = model.transform(Streamline())\n",
    "model.save(build_dir + \"/end2end_cnv_print.onnx\")\n",
    "showInNetron(build_dir + \"/end2end_cnv_print.onnx\")"
   ],
   "id": "6aaf55c31c9264f1",
   "outputs": [
    {
     "name": "stdout",
     "output_type": "stream",
     "text": [
      "Stopping http://0.0.0.0:8081\n",
      "Serving 'Fast-QNN/outputs/txaviour/alexnet_cnv/end2end_cnv_print.onnx' at http://0.0.0.0:8081\n"
     ]
    },
    {
     "data": {
      "text/plain": [
       "<IPython.lib.display.IFrame at 0x7f441c17a440>"
      ],
      "text/html": [
       "\n",
       "        <iframe\n",
       "            width=\"100%\"\n",
       "            height=\"400\"\n",
       "            src=\"http://localhost:8081/\"\n",
       "            frameborder=\"0\"\n",
       "            allowfullscreen\n",
       "            \n",
       "        ></iframe>\n",
       "        "
      ]
     },
     "execution_count": 14,
     "metadata": {},
     "output_type": "execute_result"
    }
   ],
   "execution_count": 14
  },
  {
   "metadata": {
    "ExecuteTime": {
     "end_time": "2024-11-05T18:22:09.775958Z",
     "start_time": "2024-11-05T18:22:08.798726Z"
    }
   },
   "cell_type": "code",
   "source": [
    "# absorb final add-mul nodes into TopK\n",
    "model = model.transform(absorb.AbsorbScalarMulAddIntoTopK())\n",
    "model.save(build_dir + \"/end2end_cnv_print.onnx\")\n",
    "showInNetron(build_dir + \"/end2end_cnv_print.onnx\")"
   ],
   "id": "cbe33af313ead990",
   "outputs": [
    {
     "name": "stdout",
     "output_type": "stream",
     "text": [
      "Stopping http://0.0.0.0:8081\n",
      "Serving 'Fast-QNN/outputs/txaviour/alexnet_cnv/end2end_cnv_print.onnx' at http://0.0.0.0:8081\n"
     ]
    },
    {
     "data": {
      "text/plain": [
       "<IPython.lib.display.IFrame at 0x7f441c3c71f0>"
      ],
      "text/html": [
       "\n",
       "        <iframe\n",
       "            width=\"100%\"\n",
       "            height=\"400\"\n",
       "            src=\"http://localhost:8081/\"\n",
       "            frameborder=\"0\"\n",
       "            allowfullscreen\n",
       "            \n",
       "        ></iframe>\n",
       "        "
      ]
     },
     "execution_count": 15,
     "metadata": {},
     "output_type": "execute_result"
    }
   ],
   "execution_count": 15
  },
  {
   "metadata": {
    "ExecuteTime": {
     "end_time": "2024-11-05T18:22:10.777653Z",
     "start_time": "2024-11-05T18:22:09.835557Z"
    }
   },
   "cell_type": "code",
   "source": [
    "model = model.transform(InferDataLayouts())\n",
    "model.save(build_dir + \"/end2end_cnv_print.onnx\")\n",
    "showInNetron(build_dir + \"/end2end_cnv_print.onnx\")"
   ],
   "id": "d5d4e17d5aa08f64",
   "outputs": [
    {
     "name": "stdout",
     "output_type": "stream",
     "text": [
      "Stopping http://0.0.0.0:8081\n",
      "Serving 'Fast-QNN/outputs/txaviour/alexnet_cnv/end2end_cnv_print.onnx' at http://0.0.0.0:8081\n"
     ]
    },
    {
     "data": {
      "text/plain": [
       "<IPython.lib.display.IFrame at 0x7f441c3c78e0>"
      ],
      "text/html": [
       "\n",
       "        <iframe\n",
       "            width=\"100%\"\n",
       "            height=\"400\"\n",
       "            src=\"http://localhost:8081/\"\n",
       "            frameborder=\"0\"\n",
       "            allowfullscreen\n",
       "            \n",
       "        ></iframe>\n",
       "        "
      ]
     },
     "execution_count": 16,
     "metadata": {},
     "output_type": "execute_result"
    }
   ],
   "execution_count": 16
  },
  {
   "metadata": {
    "ExecuteTime": {
     "end_time": "2024-11-05T18:22:11.779608Z",
     "start_time": "2024-11-05T18:22:10.797008Z"
    }
   },
   "cell_type": "code",
   "source": [
    "model = model.transform(RemoveUnusedTensors())\n",
    "model.save(build_dir + \"/end2end_cnv_w1a1_streamlined.onnx\")\n",
    "showInNetron(build_dir+\"/end2end_cnv_w1a1_streamlined.onnx\")"
   ],
   "id": "9d56a7d319b0000a",
   "outputs": [
    {
     "name": "stdout",
     "output_type": "stream",
     "text": [
      "Stopping http://0.0.0.0:8081\n",
      "Serving 'Fast-QNN/outputs/txaviour/alexnet_cnv/end2end_cnv_w1a1_streamlined.onnx' at http://0.0.0.0:8081\n"
     ]
    },
    {
     "data": {
      "text/plain": [
       "<IPython.lib.display.IFrame at 0x7f441c3c7a90>"
      ],
      "text/html": [
       "\n",
       "        <iframe\n",
       "            width=\"100%\"\n",
       "            height=\"400\"\n",
       "            src=\"http://localhost:8081/\"\n",
       "            frameborder=\"0\"\n",
       "            allowfullscreen\n",
       "            \n",
       "        ></iframe>\n",
       "        "
      ]
     },
     "execution_count": 17,
     "metadata": {},
     "output_type": "execute_result"
    }
   ],
   "execution_count": 17
  },
  {
   "metadata": {
    "ExecuteTime": {
     "end_time": "2024-11-05T18:22:12.874333Z",
     "start_time": "2024-11-05T18:22:11.810217Z"
    }
   },
   "cell_type": "code",
   "source": [
    "from finn.util.basic import pynq_part_map\n",
    "# change this if you have a different PYNQ board, see list above\n",
    "pynq_board = \"Pynq-Z2\"\n",
    "fpga_part = pynq_part_map[pynq_board]\n",
    "target_clk_ns = 10\n",
    "\n",
    "import finn.transformation.fpgadataflow.convert_to_hw_layers as to_hw\n",
    "from finn.transformation.fpgadataflow.create_dataflow_partition import (\n",
    "    CreateDataflowPartition,\n",
    ")\n",
    "from finn.transformation.move_reshape import RemoveCNVtoFCFlatten\n",
    "from finn.transformation.fpgadataflow.specialize_layers import SpecializeLayers\n",
    "from qonnx.custom_op.registry import getCustomOp\n",
    "from qonnx.transformation.infer_data_layouts import InferDataLayouts\n",
    "\n",
    "model = ModelWrapper(build_dir + \"/end2end_cnv_w1a1_streamlined.onnx\")\n",
    "model = model.transform(to_hw.InferBinaryMatrixVectorActivation())\n",
    "model.save(build_dir + \"/end2end_cnv_print.onnx\")\n",
    "showInNetron(build_dir + \"/end2end_cnv_print.onnx\")"
   ],
   "id": "529d2117709b0c82",
   "outputs": [
    {
     "name": "stdout",
     "output_type": "stream",
     "text": [
      "Stopping http://0.0.0.0:8081\n",
      "Serving 'Fast-QNN/outputs/txaviour/alexnet_cnv/end2end_cnv_print.onnx' at http://0.0.0.0:8081\n"
     ]
    },
    {
     "data": {
      "text/plain": [
       "<IPython.lib.display.IFrame at 0x7f441c3c7700>"
      ],
      "text/html": [
       "\n",
       "        <iframe\n",
       "            width=\"100%\"\n",
       "            height=\"400\"\n",
       "            src=\"http://localhost:8081/\"\n",
       "            frameborder=\"0\"\n",
       "            allowfullscreen\n",
       "            \n",
       "        ></iframe>\n",
       "        "
      ]
     },
     "execution_count": 18,
     "metadata": {},
     "output_type": "execute_result"
    }
   ],
   "execution_count": 18
  },
  {
   "metadata": {
    "ExecuteTime": {
     "end_time": "2024-11-05T18:22:13.875634Z",
     "start_time": "2024-11-05T18:22:12.899016Z"
    }
   },
   "cell_type": "code",
   "source": [
    "model = model.transform(to_hw.InferQuantizedMatrixVectorActivation())\n",
    "model.save(build_dir + \"/end2end_cnv_print.onnx\")\n",
    "showInNetron(build_dir + \"/end2end_cnv_print.onnx\")"
   ],
   "id": "95a0b3ebb3b1641e",
   "outputs": [
    {
     "name": "stdout",
     "output_type": "stream",
     "text": [
      "Stopping http://0.0.0.0:8081\n",
      "Serving 'Fast-QNN/outputs/txaviour/alexnet_cnv/end2end_cnv_print.onnx' at http://0.0.0.0:8081\n"
     ]
    },
    {
     "data": {
      "text/plain": [
       "<IPython.lib.display.IFrame at 0x7f441c3b52a0>"
      ],
      "text/html": [
       "\n",
       "        <iframe\n",
       "            width=\"100%\"\n",
       "            height=\"400\"\n",
       "            src=\"http://localhost:8081/\"\n",
       "            frameborder=\"0\"\n",
       "            allowfullscreen\n",
       "            \n",
       "        ></iframe>\n",
       "        "
      ]
     },
     "execution_count": 19,
     "metadata": {},
     "output_type": "execute_result"
    }
   ],
   "execution_count": 19
  },
  {
   "metadata": {
    "ExecuteTime": {
     "end_time": "2024-11-05T18:22:14.877174Z",
     "start_time": "2024-11-05T18:22:13.896961Z"
    }
   },
   "cell_type": "code",
   "source": [
    "# TopK to LabelSelect\n",
    "model = model.transform(to_hw.InferLabelSelectLayer())\n",
    "model.save(build_dir + \"/end2end_cnv_print.onnx\")\n",
    "showInNetron(build_dir + \"/end2end_cnv_print.onnx\")"
   ],
   "id": "7c11d20c28b654d8",
   "outputs": [
    {
     "name": "stdout",
     "output_type": "stream",
     "text": [
      "Stopping http://0.0.0.0:8081\n",
      "Serving 'Fast-QNN/outputs/txaviour/alexnet_cnv/end2end_cnv_print.onnx' at http://0.0.0.0:8081\n"
     ]
    },
    {
     "data": {
      "text/plain": [
       "<IPython.lib.display.IFrame at 0x7f441c18d000>"
      ],
      "text/html": [
       "\n",
       "        <iframe\n",
       "            width=\"100%\"\n",
       "            height=\"400\"\n",
       "            src=\"http://localhost:8081/\"\n",
       "            frameborder=\"0\"\n",
       "            allowfullscreen\n",
       "            \n",
       "        ></iframe>\n",
       "        "
      ]
     },
     "execution_count": 20,
     "metadata": {},
     "output_type": "execute_result"
    }
   ],
   "execution_count": 20
  },
  {
   "metadata": {
    "ExecuteTime": {
     "end_time": "2024-11-05T18:22:15.878628Z",
     "start_time": "2024-11-05T18:22:14.906752Z"
    }
   },
   "cell_type": "code",
   "source": [
    "# input quantization (if any) to standalone thresholding\n",
    "model = model.transform(to_hw.InferThresholdingLayer())\n",
    "model.save(build_dir + \"/end2end_cnv_print.onnx\")\n",
    "showInNetron(build_dir + \"/end2end_cnv_print.onnx\")"
   ],
   "id": "449a631aa57fa0f8",
   "outputs": [
    {
     "name": "stdout",
     "output_type": "stream",
     "text": [
      "Stopping http://0.0.0.0:8081\n",
      "Serving 'Fast-QNN/outputs/txaviour/alexnet_cnv/end2end_cnv_print.onnx' at http://0.0.0.0:8081\n"
     ]
    },
    {
     "data": {
      "text/plain": [
       "<IPython.lib.display.IFrame at 0x7f441ea85d20>"
      ],
      "text/html": [
       "\n",
       "        <iframe\n",
       "            width=\"100%\"\n",
       "            height=\"400\"\n",
       "            src=\"http://localhost:8081/\"\n",
       "            frameborder=\"0\"\n",
       "            allowfullscreen\n",
       "            \n",
       "        ></iframe>\n",
       "        "
      ]
     },
     "execution_count": 21,
     "metadata": {},
     "output_type": "execute_result"
    }
   ],
   "execution_count": 21
  },
  {
   "metadata": {
    "ExecuteTime": {
     "end_time": "2024-11-05T18:22:17.275594Z",
     "start_time": "2024-11-05T18:22:15.901532Z"
    }
   },
   "cell_type": "code",
   "source": [
    "model = model.transform(to_hw.InferConvInpGen())\n",
    "model.save(build_dir + \"/end2end_cnv_print.onnx\")\n",
    "showInNetron(build_dir + \"/end2end_cnv_print.onnx\")"
   ],
   "id": "cad71d725c340758",
   "outputs": [
    {
     "name": "stderr",
     "output_type": "stream",
     "text": [
      "/home/fastqnn/finn/src/finn/transformation/fpgadataflow/convert_to_hw_layers.py:63: UserWarning: Im2Col_1 : Input is not int. Can't infer ConvInpGen.\n",
      "  warnings.warn(\"%s : Input is not int. Can't infer ConvInpGen.\" % n.name)\n",
      "/home/fastqnn/finn/src/finn/transformation/fpgadataflow/convert_to_hw_layers.py:63: UserWarning: Im2Col_2 : Input is not int. Can't infer ConvInpGen.\n",
      "  warnings.warn(\"%s : Input is not int. Can't infer ConvInpGen.\" % n.name)\n",
      "/home/fastqnn/finn/src/finn/transformation/fpgadataflow/convert_to_hw_layers.py:63: UserWarning: Im2Col_3 : Input is not int. Can't infer ConvInpGen.\n",
      "  warnings.warn(\"%s : Input is not int. Can't infer ConvInpGen.\" % n.name)\n",
      "/home/fastqnn/finn/src/finn/transformation/fpgadataflow/convert_to_hw_layers.py:63: UserWarning: Im2Col_4 : Input is not int. Can't infer ConvInpGen.\n",
      "  warnings.warn(\"%s : Input is not int. Can't infer ConvInpGen.\" % n.name)\n"
     ]
    },
    {
     "name": "stdout",
     "output_type": "stream",
     "text": [
      "Stopping http://0.0.0.0:8081\n",
      "Serving 'Fast-QNN/outputs/txaviour/alexnet_cnv/end2end_cnv_print.onnx' at http://0.0.0.0:8081\n"
     ]
    },
    {
     "data": {
      "text/plain": [
       "<IPython.lib.display.IFrame at 0x7f441c14e050>"
      ],
      "text/html": [
       "\n",
       "        <iframe\n",
       "            width=\"100%\"\n",
       "            height=\"400\"\n",
       "            src=\"http://localhost:8081/\"\n",
       "            frameborder=\"0\"\n",
       "            allowfullscreen\n",
       "            \n",
       "        ></iframe>\n",
       "        "
      ]
     },
     "execution_count": 22,
     "metadata": {},
     "output_type": "execute_result"
    }
   ],
   "execution_count": 22
  },
  {
   "metadata": {
    "ExecuteTime": {
     "end_time": "2024-11-05T18:22:18.278211Z",
     "start_time": "2024-11-05T18:22:17.299853Z"
    }
   },
   "cell_type": "code",
   "source": [
    "model = model.transform(to_hw.InferStreamingMaxPool())\n",
    "model.save(build_dir + \"/end2end_cnv_print.onnx\")\n",
    "showInNetron(build_dir + \"/end2end_cnv_print.onnx\")"
   ],
   "id": "fac25e3d0aefc473",
   "outputs": [
    {
     "name": "stderr",
     "output_type": "stream",
     "text": [
      "/home/fastqnn/finn/src/finn/transformation/fpgadataflow/convert_to_hw_layers.py:394: UserWarning: Stride is not equal to kernel. Node cannot be converted to\n",
      "                        StreamingMaxPool layer.\n",
      "  warnings.warn(warn_str)\n"
     ]
    },
    {
     "name": "stdout",
     "output_type": "stream",
     "text": [
      "Stopping http://0.0.0.0:8081\n",
      "Serving 'Fast-QNN/outputs/txaviour/alexnet_cnv/end2end_cnv_print.onnx' at http://0.0.0.0:8081\n"
     ]
    },
    {
     "data": {
      "text/plain": [
       "<IPython.lib.display.IFrame at 0x7f441ea85840>"
      ],
      "text/html": [
       "\n",
       "        <iframe\n",
       "            width=\"100%\"\n",
       "            height=\"400\"\n",
       "            src=\"http://localhost:8081/\"\n",
       "            frameborder=\"0\"\n",
       "            allowfullscreen\n",
       "            \n",
       "        ></iframe>\n",
       "        "
      ]
     },
     "execution_count": 23,
     "metadata": {},
     "output_type": "execute_result"
    }
   ],
   "execution_count": 23
  },
  {
   "metadata": {
    "ExecuteTime": {
     "end_time": "2024-11-05T18:22:19.279339Z",
     "start_time": "2024-11-05T18:22:18.309112Z"
    }
   },
   "cell_type": "code",
   "source": [
    "# get rid of Reshape(-1, 1) operation between hw nodes\n",
    "model = model.transform(RemoveCNVtoFCFlatten())\n",
    "model.save(build_dir + \"/end2end_cnv_print.onnx\")\n",
    "showInNetron(build_dir + \"/end2end_cnv_print.onnx\")"
   ],
   "id": "d39781b73e16bf92",
   "outputs": [
    {
     "name": "stdout",
     "output_type": "stream",
     "text": [
      "Stopping http://0.0.0.0:8081\n",
      "Serving 'Fast-QNN/outputs/txaviour/alexnet_cnv/end2end_cnv_print.onnx' at http://0.0.0.0:8081\n"
     ]
    },
    {
     "data": {
      "text/plain": [
       "<IPython.lib.display.IFrame at 0x7f441ea845b0>"
      ],
      "text/html": [
       "\n",
       "        <iframe\n",
       "            width=\"100%\"\n",
       "            height=\"400\"\n",
       "            src=\"http://localhost:8081/\"\n",
       "            frameborder=\"0\"\n",
       "            allowfullscreen\n",
       "            \n",
       "        ></iframe>\n",
       "        "
      ]
     },
     "execution_count": 24,
     "metadata": {},
     "output_type": "execute_result"
    }
   ],
   "execution_count": 24
  },
  {
   "metadata": {
    "ExecuteTime": {
     "end_time": "2024-11-05T18:22:20.281008Z",
     "start_time": "2024-11-05T18:22:19.313099Z"
    }
   },
   "cell_type": "code",
   "source": [
    "# get rid of Tranpose -> Tranpose identity seq\n",
    "model = model.transform(absorb.AbsorbConsecutiveTransposes())\n",
    "model.save(build_dir + \"/end2end_cnv_print.onnx\")\n",
    "showInNetron(build_dir + \"/end2end_cnv_print.onnx\")"
   ],
   "id": "d1c0f9e9ea000a12",
   "outputs": [
    {
     "name": "stdout",
     "output_type": "stream",
     "text": [
      "Stopping http://0.0.0.0:8081\n",
      "Serving 'Fast-QNN/outputs/txaviour/alexnet_cnv/end2end_cnv_print.onnx' at http://0.0.0.0:8081\n"
     ]
    },
    {
     "data": {
      "text/plain": [
       "<IPython.lib.display.IFrame at 0x7f441c3d0a90>"
      ],
      "text/html": [
       "\n",
       "        <iframe\n",
       "            width=\"100%\"\n",
       "            height=\"400\"\n",
       "            src=\"http://localhost:8081/\"\n",
       "            frameborder=\"0\"\n",
       "            allowfullscreen\n",
       "            \n",
       "        ></iframe>\n",
       "        "
      ]
     },
     "execution_count": 25,
     "metadata": {},
     "output_type": "execute_result"
    }
   ],
   "execution_count": 25
  },
  {
   "metadata": {
    "ExecuteTime": {
     "end_time": "2024-11-05T18:22:21.282632Z",
     "start_time": "2024-11-05T18:22:20.308554Z"
    }
   },
   "cell_type": "code",
   "source": [
    "# infer tensor data layouts\n",
    "model = model.transform(InferDataLayouts())\n",
    "model.save(build_dir + \"/end2end_cnv_print.onnx\")\n",
    "showInNetron(build_dir + \"/end2end_cnv_print.onnx\")"
   ],
   "id": "97996fbc0238f0fd",
   "outputs": [
    {
     "name": "stdout",
     "output_type": "stream",
     "text": [
      "Stopping http://0.0.0.0:8081\n",
      "Serving 'Fast-QNN/outputs/txaviour/alexnet_cnv/end2end_cnv_print.onnx' at http://0.0.0.0:8081\n"
     ]
    },
    {
     "data": {
      "text/plain": [
       "<IPython.lib.display.IFrame at 0x7f441c3d0640>"
      ],
      "text/html": [
       "\n",
       "        <iframe\n",
       "            width=\"100%\"\n",
       "            height=\"400\"\n",
       "            src=\"http://localhost:8081/\"\n",
       "            frameborder=\"0\"\n",
       "            allowfullscreen\n",
       "            \n",
       "        ></iframe>\n",
       "        "
      ]
     },
     "execution_count": 26,
     "metadata": {},
     "output_type": "execute_result"
    }
   ],
   "execution_count": 26
  },
  {
   "metadata": {
    "ExecuteTime": {
     "end_time": "2024-11-05T18:22:22.284795Z",
     "start_time": "2024-11-05T18:22:21.307060Z"
    }
   },
   "cell_type": "code",
   "source": [
    "parent_model = model.transform(CreateDataflowPartition())\n",
    "parent_model.save(build_dir + \"/end2end_cnv_w1a1_dataflow_parent.onnx\")\n",
    "showInNetron(build_dir + \"/end2end_cnv_w1a1_dataflow_parent.onnx\")"
   ],
   "id": "2be1254a6039687d",
   "outputs": [
    {
     "name": "stdout",
     "output_type": "stream",
     "text": [
      "Stopping http://0.0.0.0:8081\n",
      "Serving 'Fast-QNN/outputs/txaviour/alexnet_cnv/end2end_cnv_w1a1_dataflow_parent.onnx' at http://0.0.0.0:8081\n"
     ]
    },
    {
     "data": {
      "text/plain": [
       "<IPython.lib.display.IFrame at 0x7f441c121f60>"
      ],
      "text/html": [
       "\n",
       "        <iframe\n",
       "            width=\"100%\"\n",
       "            height=\"400\"\n",
       "            src=\"http://localhost:8081/\"\n",
       "            frameborder=\"0\"\n",
       "            allowfullscreen\n",
       "            \n",
       "        ></iframe>\n",
       "        "
      ]
     },
     "execution_count": 27,
     "metadata": {},
     "output_type": "execute_result"
    }
   ],
   "execution_count": 27
  },
  {
   "metadata": {
    "ExecuteTime": {
     "end_time": "2024-11-05T18:22:22.543198Z",
     "start_time": "2024-11-05T18:22:22.307033Z"
    }
   },
   "cell_type": "code",
   "source": [
    "sdp_node = parent_model.get_nodes_by_op_type(\"StreamingDataflowPartition\")[0]\n",
    "sdp_node = getCustomOp(sdp_node)\n",
    "dataflow_model_filename = sdp_node.get_nodeattr(\"model\")\n",
    "# save the dataflow partition with a different name for easier access\n",
    "# and specialize the layers to HLS variants\n",
    "dataflow_model = ModelWrapper(dataflow_model_filename)\n",
    "dataflow_model.save(build_dir + \"/end2end_cnv_print.onnx\")\n",
    "showInNetron(build_dir + \"/end2end_cnv_print.onnx\")"
   ],
   "id": "76539f1694eb74a2",
   "outputs": [
    {
     "name": "stdout",
     "output_type": "stream",
     "text": [
      "Stopping http://0.0.0.0:8081\n",
      "Serving 'Fast-QNN/outputs/txaviour/alexnet_cnv/end2end_cnv_print.onnx' at http://0.0.0.0:8081\n"
     ]
    },
    {
     "data": {
      "text/plain": [
       "<IPython.lib.display.IFrame at 0x7f441c178220>"
      ],
      "text/html": [
       "\n",
       "        <iframe\n",
       "            width=\"100%\"\n",
       "            height=\"400\"\n",
       "            src=\"http://localhost:8081/\"\n",
       "            frameborder=\"0\"\n",
       "            allowfullscreen\n",
       "            \n",
       "        ></iframe>\n",
       "        "
      ]
     },
     "execution_count": 28,
     "metadata": {},
     "output_type": "execute_result"
    }
   ],
   "execution_count": 28
  },
  {
   "metadata": {
    "ExecuteTime": {
     "end_time": "2024-11-05T18:22:22.787160Z",
     "start_time": "2024-11-05T18:22:22.598057Z"
    }
   },
   "cell_type": "code",
   "source": [
    "dataflow_model = dataflow_model.transform(SpecializeLayers(fpga_part))\n",
    "dataflow_model.save(build_dir + \"/end2end_cnv_w1a1_dataflow_model.onnx\")\n",
    "showInNetron(build_dir + \"/end2end_cnv_w1a1_dataflow_model.onnx\")\n",
    "\n",
    "# showInNetron(build_dir + \"/end2end_cnv_w1a1_dataflow_parent.onnx\")\n",
    "\n",
    "# showInNetron(build_dir + \"/end2end_cnv_w1a1_dataflow_model.onnx\")"
   ],
   "id": "4ea38663cd28b82d",
   "outputs": [
    {
     "name": "stdout",
     "output_type": "stream",
     "text": [
      "Stopping http://0.0.0.0:8081\n",
      "Serving 'Fast-QNN/outputs/txaviour/alexnet_cnv/end2end_cnv_w1a1_dataflow_model.onnx' at http://0.0.0.0:8081\n"
     ]
    },
    {
     "data": {
      "text/plain": [
       "<IPython.lib.display.IFrame at 0x7f441c3d21d0>"
      ],
      "text/html": [
       "\n",
       "        <iframe\n",
       "            width=\"100%\"\n",
       "            height=\"400\"\n",
       "            src=\"http://localhost:8081/\"\n",
       "            frameborder=\"0\"\n",
       "            allowfullscreen\n",
       "            \n",
       "        ></iframe>\n",
       "        "
      ]
     },
     "execution_count": 29,
     "metadata": {},
     "output_type": "execute_result"
    }
   ],
   "execution_count": 29
  },
  {
   "metadata": {
    "ExecuteTime": {
     "end_time": "2024-11-05T18:22:23.038627Z",
     "start_time": "2024-11-05T18:22:22.810956Z"
    }
   },
   "cell_type": "code",
   "source": [
    "model = ModelWrapper(build_dir + \"/end2end_cnv_w1a1_dataflow_model.onnx\")\n",
    "fc_layers = model.get_nodes_by_op_type(\"MVAU_hls\")\n",
    "# each tuple is (PE, SIMD, in_fifo_depth) for a layer\n",
    "folding = [\n",
    "    (16, 3, [128]),\n",
    "    (32, 32, [128]),\n",
    "    (16, 32, [128]),\n",
    "    (16, 32, [128]),\n",
    "    (4, 32, [81]),\n",
    "    (1, 32, [2]),\n",
    "    (1, 4, [2]),\n",
    "    (1, 8, [128]),\n",
    "    (5, 1, [3]),\n",
    "]\n",
    "for fcl, (pe, simd, ififodepth) in zip(fc_layers, folding):\n",
    "    fcl_inst = getCustomOp(fcl)\n",
    "    fcl_inst.set_nodeattr(\"PE\", pe)\n",
    "    fcl_inst.set_nodeattr(\"SIMD\", simd)\n",
    "    fcl_inst.set_nodeattr(\"inFIFODepths\", ififodepth)\n",
    "model.save(build_dir + \"/end2end_cnv_print.onnx\")\n",
    "showInNetron(build_dir + \"/end2end_cnv_print.onnx\")"
   ],
   "id": "fb183d121a5e9829",
   "outputs": [
    {
     "name": "stdout",
     "output_type": "stream",
     "text": [
      "Stopping http://0.0.0.0:8081\n",
      "Serving 'Fast-QNN/outputs/txaviour/alexnet_cnv/end2end_cnv_print.onnx' at http://0.0.0.0:8081\n"
     ]
    },
    {
     "data": {
      "text/plain": [
       "<IPython.lib.display.IFrame at 0x7f441c1e7fd0>"
      ],
      "text/html": [
       "\n",
       "        <iframe\n",
       "            width=\"100%\"\n",
       "            height=\"400\"\n",
       "            src=\"http://localhost:8081/\"\n",
       "            frameborder=\"0\"\n",
       "            allowfullscreen\n",
       "            \n",
       "        ></iframe>\n",
       "        "
      ]
     },
     "execution_count": 30,
     "metadata": {},
     "output_type": "execute_result"
    }
   ],
   "execution_count": 30
  },
  {
   "metadata": {
    "ExecuteTime": {
     "end_time": "2024-11-05T18:22:23.290960Z",
     "start_time": "2024-11-05T18:22:23.069060Z"
    }
   },
   "cell_type": "code",
   "source": [
    "# use same SIMD values for the sliding window operators\n",
    "swg_layers = model.get_nodes_by_op_type(\"ConvolutionInputGenerator_rtl\")\n",
    "for i in range(len(swg_layers)):\n",
    "    swg_inst = getCustomOp(swg_layers[i])\n",
    "    simd = folding[i][1]\n",
    "    swg_inst.set_nodeattr(\"SIMD\", simd)\n",
    "model.save(build_dir + \"/end2end_cnv_print.onnx\")\n",
    "showInNetron(build_dir + \"/end2end_cnv_print.onnx\")"
   ],
   "id": "dcb0029f5d0095fe",
   "outputs": [
    {
     "name": "stdout",
     "output_type": "stream",
     "text": [
      "Stopping http://0.0.0.0:8081\n",
      "Serving 'Fast-QNN/outputs/txaviour/alexnet_cnv/end2end_cnv_print.onnx' at http://0.0.0.0:8081\n"
     ]
    },
    {
     "data": {
      "text/plain": [
       "<IPython.lib.display.IFrame at 0x7f441c14d5a0>"
      ],
      "text/html": [
       "\n",
       "        <iframe\n",
       "            width=\"100%\"\n",
       "            height=\"400\"\n",
       "            src=\"http://localhost:8081/\"\n",
       "            frameborder=\"0\"\n",
       "            allowfullscreen\n",
       "            \n",
       "        ></iframe>\n",
       "        "
      ]
     },
     "execution_count": 31,
     "metadata": {},
     "output_type": "execute_result"
    }
   ],
   "execution_count": 31
  },
  {
   "metadata": {
    "ExecuteTime": {
     "end_time": "2024-11-05T18:22:34.557195Z",
     "start_time": "2024-11-05T18:22:34.370960Z"
    }
   },
   "cell_type": "code",
   "source": [
    "model = model.transform(GiveUniqueNodeNames())\n",
    "model.save(build_dir + \"/end2end_cnv_w1a1_folded.onnx\")\n",
    "\n",
    "showInNetron(build_dir + \"/end2end_cnv_w1a1_folded.onnx\")"
   ],
   "id": "6a205c0662ec0e41",
   "outputs": [
    {
     "name": "stdout",
     "output_type": "stream",
     "text": [
      "Stopping http://0.0.0.0:8081\n",
      "Serving 'Fast-QNN/outputs/txaviour/alexnet_cnv/end2end_cnv_w1a1_folded.onnx' at http://0.0.0.0:8081\n"
     ]
    },
    {
     "data": {
      "text/plain": [
       "<IPython.lib.display.IFrame at 0x7f441c120af0>"
      ],
      "text/html": [
       "\n",
       "        <iframe\n",
       "            width=\"100%\"\n",
       "            height=\"400\"\n",
       "            src=\"http://localhost:8081/\"\n",
       "            frameborder=\"0\"\n",
       "            allowfullscreen\n",
       "            \n",
       "        ></iframe>\n",
       "        "
      ]
     },
     "execution_count": 32,
     "metadata": {},
     "output_type": "execute_result"
    }
   ],
   "execution_count": 32
  },
  {
   "metadata": {},
   "cell_type": "code",
   "source": [
    "\n",
    "from finn.transformation.fpgadataflow.make_zynq_proj import ZynqBuild\n",
    "model = ModelWrapper(build_dir+\"/end2end_cnv_w1a1_folded.onnx\")\n",
    "model = model.transform(ZynqBuild(platform = pynq_board, period_ns = target_clk_ns))\n",
    "model.save(build_dir + \"/end2end_cnv_print.onnx\")\n",
    "showInNetron(build_dir + \"/end2end_cnv_print.onnx\")"
   ],
   "id": "3edca35a0903c3f",
   "outputs": [],
   "execution_count": null
  },
  {
   "metadata": {},
   "cell_type": "code",
   "source": [
    "from finn.transformation.fpgadataflow.make_pynq_driver import MakePYNQDriver\n",
    "model = model.transform(MakePYNQDriver(\"zynq-iodma\"))\n",
    "model.save(build_dir + \"/end2end_cnv_w1a1_synth.onnx\")\n",
    "showInNetron(build_dir + \"/end2end_cnv_w1a1_synth.onnx\")"
   ],
   "id": "5b24f5ea77de752c",
   "outputs": [],
   "execution_count": null
  }
 ],
 "metadata": {
  "kernelspec": {
   "display_name": "Python 3",
   "language": "python",
   "name": "python3"
  },
  "language_info": {
   "codemirror_mode": {
    "name": "ipython",
    "version": 2
   },
   "file_extension": ".py",
   "mimetype": "text/x-python",
   "name": "python",
   "nbconvert_exporter": "python",
   "pygments_lexer": "ipython2",
   "version": "2.7.6"
  }
 },
 "nbformat": 4,
 "nbformat_minor": 5
}
